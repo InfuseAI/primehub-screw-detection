{
 "cells": [
  {
   "cell_type": "markdown",
   "id": "d687f25d",
   "metadata": {},
   "source": [
    "### [Optional] Reset the data folder"
   ]
  },
  {
   "cell_type": "code",
   "execution_count": 1,
   "id": "0126e12e",
   "metadata": {},
   "outputs": [],
   "source": [
    "!rm -rf ./data/original/ ./data/arrange/ ~/.kaggle/"
   ]
  },
  {
   "cell_type": "markdown",
   "id": "3dc5ade4",
   "metadata": {},
   "source": [
    "## Part 1: Fill in the Variable \n",
    "Please modify the variable to get the correct information."
   ]
  },
  {
   "cell_type": "code",
   "execution_count": 2,
   "id": "3521a01e",
   "metadata": {},
   "outputs": [],
   "source": [
    "# Kaggle connection\n",
    "kaggle_api_token = {\"username\":<username>,\"key\":<access-key>}\n",
    "\n",
    "# Label Data file\n",
    "label_data_file_path = \"project-6-at-2022-09-19-04-17-b9f72b54.json\""
   ]
  },
  {
   "cell_type": "code",
   "execution_count": 3,
   "id": "1af4196f",
   "metadata": {},
   "outputs": [],
   "source": [
    "# Model learning rate\n",
    "base_learning_rate = 0.01"
   ]
  },
  {
   "cell_type": "code",
   "execution_count": 4,
   "id": "56c9deed",
   "metadata": {},
   "outputs": [],
   "source": [
    "# MLFlow experiment name\n",
    "mlflow_experiment_name = \"tutorial_screw_train\""
   ]
  },
  {
   "cell_type": "markdown",
   "id": "307b6d54",
   "metadata": {},
   "source": [
    "## Part 2: Install python package"
   ]
  },
  {
   "cell_type": "code",
   "execution_count": 5,
   "id": "6a86116a",
   "metadata": {},
   "outputs": [],
   "source": [
    "!pip install -q -r ./jupyter-image/requirements.txt"
   ]
  },
  {
   "cell_type": "markdown",
   "id": "c615f2b7",
   "metadata": {},
   "source": [
    "## Part 3: Data Processing"
   ]
  },
  {
   "cell_type": "markdown",
   "id": "c8294800",
   "metadata": {},
   "source": [
    "### Step 1: Prepare the Data\n",
    "Download and extract the zip file, then follow the tutorial to use Label Studio to label the data."
   ]
  },
  {
   "cell_type": "code",
   "execution_count": 6,
   "id": "9c271e8d",
   "metadata": {},
   "outputs": [],
   "source": [
    "!mkdir ~/.kaggle/\n",
    "!touch ~/.kaggle/kaggle.json"
   ]
  },
  {
   "cell_type": "code",
   "execution_count": 7,
   "id": "4ce862c2",
   "metadata": {},
   "outputs": [],
   "source": [
    "import os\n",
    "import json\n",
    "\n",
    "with open('{}/.kaggle/kaggle.json'.format(os.path.expanduser('~')), 'w') as file:\n",
    "    json.dump(kaggle_api_token, file)"
   ]
  },
  {
   "cell_type": "code",
   "execution_count": 8,
   "id": "e3063fa9",
   "metadata": {},
   "outputs": [],
   "source": [
    "!chmod 600 ~/.kaggle/kaggle.json"
   ]
  },
  {
   "cell_type": "code",
   "execution_count": 9,
   "id": "c6ee14d3",
   "metadata": {},
   "outputs": [
    {
     "name": "stdout",
     "output_type": "stream",
     "text": [
      "mkdir: cannot create directory ‘./data/label/’: File exists\n"
     ]
    }
   ],
   "source": [
    "# Kaggle dataset: https://www.kaggle.com/datasets/ruruamour/screw-dataset\n",
    "\n",
    "# Image data - original\n",
    "original_data_folder_path = \"./data/original/\"\n",
    "!mkdir $original_data_folder_path\n",
    "!kaggle datasets download -d ruruamour/screw-dataset -p ./data/ -q\n",
    "!unzip -q ./data/screw-dataset.zip -d $original_data_folder_path\n",
    "!rm -rf ./data/screw-dataset.zip\n",
    "\n",
    "# Label data folder\n",
    "label_data_folder_path = \"./data/label/\"\n",
    "!mkdir $label_data_folder_path"
   ]
  },
  {
   "cell_type": "markdown",
   "id": "1616c0b8",
   "metadata": {},
   "source": [
    "### Step 2: Data ELT pipeline\n",
    "\n",
    "We will do the data ELT pipeline in the following code."
   ]
  },
  {
   "cell_type": "markdown",
   "id": "af6e8c97",
   "metadata": {},
   "source": [
    "#### Import the python package"
   ]
  },
  {
   "cell_type": "code",
   "execution_count": 10,
   "id": "fa552092",
   "metadata": {},
   "outputs": [],
   "source": [
    "import json\n",
    "import shutil\n",
    "import os\n",
    "from pathlib import Path"
   ]
  },
  {
   "cell_type": "markdown",
   "id": "1bfcfed7",
   "metadata": {},
   "source": [
    "#### Data Extraction: Read the label studio export json-format file"
   ]
  },
  {
   "cell_type": "code",
   "execution_count": 11,
   "id": "eea98fdb",
   "metadata": {},
   "outputs": [
    {
     "data": {
      "text/html": [
       "<div>\n",
       "<style scoped>\n",
       "    .dataframe tbody tr th:only-of-type {\n",
       "        vertical-align: middle;\n",
       "    }\n",
       "\n",
       "    .dataframe tbody tr th {\n",
       "        vertical-align: top;\n",
       "    }\n",
       "\n",
       "    .dataframe thead th {\n",
       "        text-align: right;\n",
       "    }\n",
       "</style>\n",
       "<table border=\"1\" class=\"dataframe\">\n",
       "  <thead>\n",
       "    <tr style=\"text-align: right;\">\n",
       "      <th></th>\n",
       "      <th>image</th>\n",
       "      <th>id</th>\n",
       "      <th>choice</th>\n",
       "      <th>annotator</th>\n",
       "      <th>annotation_id</th>\n",
       "    </tr>\n",
       "  </thead>\n",
       "  <tbody>\n",
       "    <tr>\n",
       "      <th>0</th>\n",
       "      <td>ok001.png</td>\n",
       "      <td>40</td>\n",
       "      <td>good</td>\n",
       "      <td>demo@infuseai.io</td>\n",
       "      <td>44</td>\n",
       "    </tr>\n",
       "    <tr>\n",
       "      <th>1</th>\n",
       "      <td>ok002.png</td>\n",
       "      <td>39</td>\n",
       "      <td>good</td>\n",
       "      <td>demo@infuseai.io</td>\n",
       "      <td>43</td>\n",
       "    </tr>\n",
       "    <tr>\n",
       "      <th>2</th>\n",
       "      <td>ok003.png</td>\n",
       "      <td>38</td>\n",
       "      <td>good</td>\n",
       "      <td>demo@infuseai.io</td>\n",
       "      <td>42</td>\n",
       "    </tr>\n",
       "    <tr>\n",
       "      <th>3</th>\n",
       "      <td>ok004.png</td>\n",
       "      <td>37</td>\n",
       "      <td>good</td>\n",
       "      <td>demo@infuseai.io</td>\n",
       "      <td>41</td>\n",
       "    </tr>\n",
       "    <tr>\n",
       "      <th>4</th>\n",
       "      <td>ok005.png</td>\n",
       "      <td>36</td>\n",
       "      <td>good</td>\n",
       "      <td>demo@infuseai.io</td>\n",
       "      <td>40</td>\n",
       "    </tr>\n",
       "  </tbody>\n",
       "</table>\n",
       "</div>"
      ],
      "text/plain": [
       "       image  id choice         annotator  annotation_id\n",
       "0  ok001.png  40   good  demo@infuseai.io             44\n",
       "1  ok002.png  39   good  demo@infuseai.io             43\n",
       "2  ok003.png  38   good  demo@infuseai.io             42\n",
       "3  ok004.png  37   good  demo@infuseai.io             41\n",
       "4  ok005.png  36   good  demo@infuseai.io             40"
      ]
     },
     "execution_count": 11,
     "metadata": {},
     "output_type": "execute_result"
    }
   ],
   "source": [
    "import pandas as pd\n",
    "\n",
    "df = pd.read_json(os.path.join(label_data_folder_path, label_data_file_path))\n",
    "df['image'] = df['image'].str.split(pat=\"/\", expand=True)[8]\n",
    "df.head()"
   ]
  },
  {
   "cell_type": "markdown",
   "id": "5d5daa0e",
   "metadata": {},
   "source": [
    "#### Data Load-To: Create a training and validation data folder"
   ]
  },
  {
   "cell_type": "code",
   "execution_count": 12,
   "id": "ba8402e5",
   "metadata": {},
   "outputs": [
    {
     "data": {
      "text/plain": [
       "{'train': {'folder_path': './data/arrange/train',\n",
       "  'good': {'folder_path': './data/arrange/train/good'},\n",
       "  'bad': {'folder_path': './data/arrange/train/bad'}},\n",
       " 'valid': {'folder_path': './data/arrange/valid',\n",
       "  'good': {'folder_path': './data/arrange/valid/good'},\n",
       "  'bad': {'folder_path': './data/arrange/valid/bad'}}}"
      ]
     },
     "execution_count": 12,
     "metadata": {},
     "output_type": "execute_result"
    }
   ],
   "source": [
    "arrange_data_folder_path = './data/arrange/'\n",
    "dataset_type_list = ['train', 'valid']\n",
    "label_list = ['good', 'bad']\n",
    "dataset_dict = {}\n",
    "\n",
    "for dataset_type in dataset_type_list:\n",
    "    dataset_dict[dataset_type] = {}\n",
    "    dataset_dict[dataset_type]['folder_path'] = os.path.join(arrange_data_folder_path, dataset_type)\n",
    "    for label in label_list:\n",
    "        arrange_subfolder_path = os.path.join(arrange_data_folder_path, dataset_type, label)\n",
    "        dataset_dict[dataset_type][label] = {}\n",
    "        dataset_dict[dataset_type][label]['folder_path'] = arrange_subfolder_path\n",
    "        os.makedirs(arrange_subfolder_path, exist_ok=True)\n",
    "    \n",
    "dataset_dict"
   ]
  },
  {
   "cell_type": "markdown",
   "id": "3e6596e8",
   "metadata": {},
   "source": [
    "#### Data Transformation: Put the original image data into arrangement folder."
   ]
  },
  {
   "cell_type": "code",
   "execution_count": 13,
   "id": "04d6e05d",
   "metadata": {},
   "outputs": [
    {
     "data": {
      "text/html": [
       "<div>\n",
       "<style scoped>\n",
       "    .dataframe tbody tr th:only-of-type {\n",
       "        vertical-align: middle;\n",
       "    }\n",
       "\n",
       "    .dataframe tbody tr th {\n",
       "        vertical-align: top;\n",
       "    }\n",
       "\n",
       "    .dataframe thead th {\n",
       "        text-align: right;\n",
       "    }\n",
       "</style>\n",
       "<table border=\"1\" class=\"dataframe\">\n",
       "  <thead>\n",
       "    <tr style=\"text-align: right;\">\n",
       "      <th></th>\n",
       "      <th>image</th>\n",
       "      <th>id</th>\n",
       "      <th>choice</th>\n",
       "      <th>annotator</th>\n",
       "      <th>annotation_id</th>\n",
       "      <th>arrange_path</th>\n",
       "    </tr>\n",
       "  </thead>\n",
       "  <tbody>\n",
       "    <tr>\n",
       "      <th>0</th>\n",
       "      <td>ok001.png</td>\n",
       "      <td>40</td>\n",
       "      <td>good</td>\n",
       "      <td>demo@infuseai.io</td>\n",
       "      <td>44</td>\n",
       "      <td>./data/arrange/valid/good/ok001.png</td>\n",
       "    </tr>\n",
       "    <tr>\n",
       "      <th>1</th>\n",
       "      <td>ok002.png</td>\n",
       "      <td>39</td>\n",
       "      <td>good</td>\n",
       "      <td>demo@infuseai.io</td>\n",
       "      <td>43</td>\n",
       "      <td>./data/arrange/valid/good/ok002.png</td>\n",
       "    </tr>\n",
       "    <tr>\n",
       "      <th>2</th>\n",
       "      <td>ok003.png</td>\n",
       "      <td>38</td>\n",
       "      <td>good</td>\n",
       "      <td>demo@infuseai.io</td>\n",
       "      <td>42</td>\n",
       "      <td>./data/arrange/valid/good/ok003.png</td>\n",
       "    </tr>\n",
       "    <tr>\n",
       "      <th>3</th>\n",
       "      <td>ok004.png</td>\n",
       "      <td>37</td>\n",
       "      <td>good</td>\n",
       "      <td>demo@infuseai.io</td>\n",
       "      <td>41</td>\n",
       "      <td>./data/arrange/valid/good/ok004.png</td>\n",
       "    </tr>\n",
       "    <tr>\n",
       "      <th>4</th>\n",
       "      <td>ok005.png</td>\n",
       "      <td>36</td>\n",
       "      <td>good</td>\n",
       "      <td>demo@infuseai.io</td>\n",
       "      <td>40</td>\n",
       "      <td>./data/arrange/train/good/ok005.png</td>\n",
       "    </tr>\n",
       "  </tbody>\n",
       "</table>\n",
       "</div>"
      ],
      "text/plain": [
       "       image  id choice         annotator  annotation_id  \\\n",
       "0  ok001.png  40   good  demo@infuseai.io             44   \n",
       "1  ok002.png  39   good  demo@infuseai.io             43   \n",
       "2  ok003.png  38   good  demo@infuseai.io             42   \n",
       "3  ok004.png  37   good  demo@infuseai.io             41   \n",
       "4  ok005.png  36   good  demo@infuseai.io             40   \n",
       "\n",
       "                          arrange_path  \n",
       "0  ./data/arrange/valid/good/ok001.png  \n",
       "1  ./data/arrange/valid/good/ok002.png  \n",
       "2  ./data/arrange/valid/good/ok003.png  \n",
       "3  ./data/arrange/valid/good/ok004.png  \n",
       "4  ./data/arrange/train/good/ok005.png  "
      ]
     },
     "execution_count": 13,
     "metadata": {},
     "output_type": "execute_result"
    }
   ],
   "source": [
    "val_count = 4\n",
    "val_good_count = 0\n",
    "val_bad_count = 0\n",
    "\n",
    "arrange_folder_path_list = []\n",
    "for original_file_name, label_result in zip(df['image'], df['choice']):\n",
    "    original_file_path = os.path.join(original_data_folder_path, 'train', original_file_name)\n",
    "    if label_result == 'good':\n",
    "        if val_good_count < val_count:\n",
    "            arrange_file_path = os.path.join(dataset_dict['valid']['good']['folder_path'], original_file_name)\n",
    "            val_good_count = val_good_count + 1\n",
    "        else:\n",
    "            arrange_file_path = os.path.join(dataset_dict['train']['good']['folder_path'], original_file_name)\n",
    "    else:\n",
    "        if val_bad_count < val_count:\n",
    "            arrange_file_path = os.path.join(dataset_dict['valid']['bad']['folder_path'], original_file_name)\n",
    "            val_bad_count = val_bad_count + 1\n",
    "        else:\n",
    "            arrange_file_path = os.path.join(dataset_dict['train']['bad']['folder_path'], original_file_name)\n",
    "    arrange_folder_path_list.append(arrange_file_path)\n",
    "    shutil.copyfile(original_file_path, arrange_file_path)\n",
    "\n",
    "df['arrange_path'] = arrange_folder_path_list\n",
    "df.head()"
   ]
  },
  {
   "cell_type": "markdown",
   "id": "1b1b04a2",
   "metadata": {},
   "source": [
    "## Part 3: Model Training Pipeline\n",
    "\n",
    "After labeled all the images, you can run the following cells to start training and log results to MLflow."
   ]
  },
  {
   "cell_type": "markdown",
   "id": "bb0fcdcc",
   "metadata": {},
   "source": [
    "### Step 1: Import python package"
   ]
  },
  {
   "cell_type": "code",
   "execution_count": 14,
   "id": "8cdc215b",
   "metadata": {},
   "outputs": [
    {
     "name": "stderr",
     "output_type": "stream",
     "text": [
      "2023-01-03 01:20:59.116645: W tensorflow/stream_executor/platform/default/dso_loader.cc:64] Could not load dynamic library 'libcudart.so.11.0'; dlerror: libcudart.so.11.0: cannot open shared object file: No such file or directory; LD_LIBRARY_PATH: \n",
      "2023-01-03 01:20:59.116696: I tensorflow/stream_executor/cuda/cudart_stub.cc:29] Ignore above cudart dlerror if you do not have a GPU set up on your machine.\n"
     ]
    }
   ],
   "source": [
    "import os\n",
    "import numpy as np\n",
    "import tensorflow as tf\n",
    "import tensorflow_hub as hub\n",
    "import matplotlib.pyplot as plt\n",
    "from tensorflow.keras.preprocessing import image_dataset_from_directory"
   ]
  },
  {
   "cell_type": "markdown",
   "id": "24e046a7",
   "metadata": {},
   "source": [
    "### Step 2: mlflow initial"
   ]
  },
  {
   "cell_type": "code",
   "execution_count": 15,
   "id": "1d0ec28f",
   "metadata": {},
   "outputs": [
    {
     "name": "stderr",
     "output_type": "stream",
     "text": [
      "2023/01/03 01:21:02 WARNING mlflow.utils.autologging_utils: You are using an unsupported version of tensorflow. If you encounter errors during autologging, try upgrading / downgrading tensorflow to a supported version, or try upgrading MLflow.\n"
     ]
    }
   ],
   "source": [
    "import mlflow\n",
    "mlflow.set_experiment(mlflow_experiment_name)\n",
    "mlflow.tensorflow.autolog()"
   ]
  },
  {
   "cell_type": "markdown",
   "id": "9b349829",
   "metadata": {},
   "source": [
    "### Step 3: Setting dataset"
   ]
  },
  {
   "cell_type": "code",
   "execution_count": 16,
   "id": "c4323881",
   "metadata": {},
   "outputs": [],
   "source": [
    "BATCH_SIZE = 8\n",
    "IMG_SIZE = (1024, 1024)"
   ]
  },
  {
   "cell_type": "code",
   "execution_count": 17,
   "id": "316d6795",
   "metadata": {},
   "outputs": [
    {
     "name": "stdout",
     "output_type": "stream",
     "text": [
      "Found 32 files belonging to 2 classes.\n"
     ]
    },
    {
     "name": "stderr",
     "output_type": "stream",
     "text": [
      "2023-01-03 01:21:02.437641: W tensorflow/stream_executor/platform/default/dso_loader.cc:64] Could not load dynamic library 'libcuda.so.1'; dlerror: libcuda.so.1: cannot open shared object file: No such file or directory; LD_LIBRARY_PATH: \n",
      "2023-01-03 01:21:02.437685: W tensorflow/stream_executor/cuda/cuda_driver.cc:269] failed call to cuInit: UNKNOWN ERROR (303)\n",
      "2023-01-03 01:21:02.437704: I tensorflow/stream_executor/cuda/cuda_diagnostics.cc:156] kernel driver does not appear to be running on this host (jupyter-phadmin): /proc/driver/nvidia/version does not exist\n",
      "2023-01-03 01:21:02.437988: I tensorflow/core/platform/cpu_feature_guard.cc:151] This TensorFlow binary is optimized with oneAPI Deep Neural Network Library (oneDNN) to use the following CPU instructions in performance-critical operations:  AVX2 FMA\n",
      "To enable them in other operations, rebuild TensorFlow with the appropriate compiler flags.\n"
     ]
    }
   ],
   "source": [
    "train_dataset = image_dataset_from_directory(dataset_dict['train']['folder_path'],\n",
    "                                             shuffle=True,\n",
    "                                             batch_size=BATCH_SIZE,\n",
    "                                             image_size=IMG_SIZE)"
   ]
  },
  {
   "cell_type": "code",
   "execution_count": 18,
   "id": "b0c8831e",
   "metadata": {},
   "outputs": [
    {
     "name": "stdout",
     "output_type": "stream",
     "text": [
      "Found 8 files belonging to 2 classes.\n"
     ]
    }
   ],
   "source": [
    "validation_dataset = image_dataset_from_directory(dataset_dict['valid']['folder_path'],\n",
    "                                                  shuffle=True,\n",
    "                                                  batch_size=BATCH_SIZE,\n",
    "                                                  image_size=IMG_SIZE)"
   ]
  },
  {
   "cell_type": "markdown",
   "id": "506f38d4",
   "metadata": {},
   "source": [
    "#### Show example\n",
    "Show some cases of training examples."
   ]
  },
  {
   "cell_type": "code",
   "execution_count": 19,
   "id": "b29d70e6",
   "metadata": {},
   "outputs": [
    {
     "data": {
      "image/png": "[encoded data removed]",
      "text/plain": [
       "<Figure size 720x720 with 6 Axes>"
      ]
     },
     "metadata": {
      "needs_background": "light"
     },
     "output_type": "display_data"
    }
   ],
   "source": [
    "class_names = train_dataset.class_names\n",
    "\n",
    "show_img = 1\n",
    "\n",
    "if show_img:\n",
    "    plt.figure(figsize=(10, 10))\n",
    "    for images, labels in train_dataset.take(1):\n",
    "        for i in range(6):\n",
    "            ax = plt.subplot(3, 3, i + 1)\n",
    "            plt.imshow(images[i].numpy().astype(\"uint8\"))\n",
    "            plt.title(class_names[labels[i]])\n",
    "            plt.axis(\"off\")"
   ]
  },
  {
   "cell_type": "markdown",
   "id": "396dcf0f",
   "metadata": {},
   "source": [
    "### Step 4: Build the Model\n",
    "We use mobilenet as our model."
   ]
  },
  {
   "cell_type": "markdown",
   "id": "19dc4df8",
   "metadata": {},
   "source": [
    "#### Build the data augmentation layer"
   ]
  },
  {
   "cell_type": "code",
   "execution_count": 20,
   "id": "9b45cbeb",
   "metadata": {},
   "outputs": [],
   "source": [
    "data_augmentation = tf.keras.Sequential([\n",
    "    tf.keras.layers.experimental.preprocessing.RandomFlip(),\n",
    "])"
   ]
  },
  {
   "cell_type": "markdown",
   "id": "5bdd83a3",
   "metadata": {},
   "source": [
    "#### Build the Input preprocessing application layer\n"
   ]
  },
  {
   "cell_type": "code",
   "execution_count": 21,
   "id": "8fb151a4",
   "metadata": {},
   "outputs": [],
   "source": [
    "preprocess_input = tf.keras.applications.mobilenet_v2.preprocess_input"
   ]
  },
  {
   "cell_type": "markdown",
   "id": "0f36fd34",
   "metadata": {},
   "source": [
    "#### Build the mobilenet v3 base model\n"
   ]
  },
  {
   "cell_type": "code",
   "execution_count": 22,
   "id": "ae2bbf18",
   "metadata": {},
   "outputs": [],
   "source": [
    "model_url = \"https://tfhub.dev/google/imagenet/mobilenet_v3_large_100_224/feature_vector/5\"\n",
    "base_model = tf.keras.Sequential([\n",
    "    tf.keras.layers.experimental.preprocessing.Resizing(224, 224),\n",
    "    hub.KerasLayer(model_url, trainable=False)\n",
    "])\n",
    "base_model.build([None, 224, 224, 3])\n",
    "\n",
    "# Change base model trainable is False(We only fine-tune the model in this example.)\n",
    "base_model.trainable = False"
   ]
  },
  {
   "cell_type": "markdown",
   "id": "717aa36e",
   "metadata": {},
   "source": [
    "#### Build the prediction layer\n"
   ]
  },
  {
   "cell_type": "code",
   "execution_count": 23,
   "id": "fe7e0c74",
   "metadata": {},
   "outputs": [],
   "source": [
    "prediction_layer = tf.keras.layers.Dense(1, kernel_regularizer=tf.keras.regularizers.l2(l2=0.1))"
   ]
  },
  {
   "cell_type": "markdown",
   "id": "6dd3f20e",
   "metadata": {},
   "source": [
    "#### Combine all the model layer into one model"
   ]
  },
  {
   "cell_type": "code",
   "execution_count": 24,
   "id": "c198adc7",
   "metadata": {},
   "outputs": [],
   "source": [
    "inputs = tf.keras.Input(shape=(1024, 1024, 3))\n",
    "x = data_augmentation(inputs)\n",
    "x = preprocess_input(x)\n",
    "x = base_model(x, training=False)\n",
    "outputs = prediction_layer(x)\n",
    "model = tf.keras.Model(inputs, outputs)"
   ]
  },
  {
   "cell_type": "markdown",
   "id": "dfa920dc",
   "metadata": {
    "tags": [
     "parameters"
    ]
   },
   "source": [
    "#### Compile the model"
   ]
  },
  {
   "cell_type": "code",
   "execution_count": 25,
   "id": "b9b5a9b7",
   "metadata": {},
   "outputs": [
    {
     "name": "stderr",
     "output_type": "stream",
     "text": [
      "/opt/conda/lib/python3.7/site-packages/keras/optimizer_v2/gradient_descent.py:102: UserWarning: The `lr` argument is deprecated, use `learning_rate` instead.\n",
      "  super(SGD, self).__init__(name, **kwargs)\n"
     ]
    }
   ],
   "source": [
    "model.compile(optimizer=tf.keras.optimizers.SGD(lr=base_learning_rate, momentum=0.9),\n",
    "              loss=tf.keras.losses.BinaryCrossentropy(from_logits=True),\n",
    "              metrics=['accuracy'])"
   ]
  },
  {
   "cell_type": "markdown",
   "id": "d1d19926",
   "metadata": {},
   "source": [
    "#### Get the model summary"
   ]
  },
  {
   "cell_type": "code",
   "execution_count": 26,
   "id": "5fb97890",
   "metadata": {},
   "outputs": [
    {
     "name": "stdout",
     "output_type": "stream",
     "text": [
      "Model: \"model\"\n",
      "_________________________________________________________________\n",
      " Layer (type)                Output Shape              Param #   \n",
      "=================================================================\n",
      " input_1 (InputLayer)        [(None, 1024, 1024, 3)]   0         \n",
      "                                                                 \n",
      " sequential (Sequential)     (None, 1024, 1024, 3)     0         \n",
      "                                                                 \n",
      " tf.math.truediv (TFOpLambda  (None, 1024, 1024, 3)    0         \n",
      " )                                                               \n",
      "                                                                 \n",
      " tf.math.subtract (TFOpLambd  (None, 1024, 1024, 3)    0         \n",
      " a)                                                              \n",
      "                                                                 \n",
      " sequential_1 (Sequential)   (None, 1280)              4226432   \n",
      "                                                                 \n",
      " dense (Dense)               (None, 1)                 1281      \n",
      "                                                                 \n",
      "=================================================================\n",
      "Total params: 4,227,713\n",
      "Trainable params: 1,281\n",
      "Non-trainable params: 4,226,432\n",
      "_________________________________________________________________\n"
     ]
    }
   ],
   "source": [
    "model.summary()"
   ]
  },
  {
   "cell_type": "markdown",
   "id": "08089cbc",
   "metadata": {},
   "source": [
    "### Step 5: Model Training"
   ]
  },
  {
   "cell_type": "markdown",
   "id": "661c7539",
   "metadata": {},
   "source": [
    "#### Check the initial dataset metrics value"
   ]
  },
  {
   "cell_type": "code",
   "execution_count": 27,
   "id": "04aeab3a",
   "metadata": {},
   "outputs": [
    {
     "name": "stdout",
     "output_type": "stream",
     "text": [
      "1/1 [==============================] - 2s 2s/step - loss: 0.9527 - accuracy: 0.5000\n"
     ]
    }
   ],
   "source": [
    "loss0, accuracy0 = model.evaluate(validation_dataset)"
   ]
  },
  {
   "cell_type": "code",
   "execution_count": 28,
   "id": "d8118036",
   "metadata": {},
   "outputs": [
    {
     "name": "stdout",
     "output_type": "stream",
     "text": [
      "initial loss: 0.95\n",
      "initial accuracy: 0.50\n"
     ]
    }
   ],
   "source": [
    "print(\"initial loss: {:.2f}\".format(loss0))\n",
    "print(\"initial accuracy: {:.2f}\".format(accuracy0))"
   ]
  },
  {
   "cell_type": "markdown",
   "id": "5e219bda",
   "metadata": {},
   "source": [
    "#### Setting the callback"
   ]
  },
  {
   "cell_type": "code",
   "execution_count": 29,
   "id": "09f0a3bb",
   "metadata": {},
   "outputs": [],
   "source": [
    "def scheduler(epoch, lr):\n",
    "    if epoch >= 10 and epoch % 10 == 0:\n",
    "        return lr / 5\n",
    "    return lr\n",
    "\n",
    "learning_rate_scheduler = tf.keras.callbacks.LearningRateScheduler(scheduler)"
   ]
  },
  {
   "cell_type": "code",
   "execution_count": 30,
   "id": "378568e4",
   "metadata": {},
   "outputs": [],
   "source": [
    "callback_list = [learning_rate_scheduler]"
   ]
  },
  {
   "cell_type": "markdown",
   "id": "61bd0be0",
   "metadata": {},
   "source": [
    "#### Train the model"
   ]
  },
  {
   "cell_type": "code",
   "execution_count": 31,
   "id": "5af90eeb",
   "metadata": {},
   "outputs": [
    {
     "name": "stderr",
     "output_type": "stream",
     "text": [
      "2023/01/03 01:21:13 INFO mlflow.utils.autologging_utils: Created MLflow autologging run with ID '63019aacbaca44059eb56a66ac2f00fd', which will track hyperparameters, performance metrics, model artifacts, and lineage information for the current tensorflow workflow\n"
     ]
    },
    {
     "name": "stdout",
     "output_type": "stream",
     "text": [
      "Epoch 1/25\n",
      "4/4 [==============================] - 12s 1s/step - loss: 0.8264 - accuracy: 0.8125 - val_loss: 1.2297 - val_accuracy: 0.3750 - lr: 0.0100\n",
      "Epoch 2/25\n",
      "4/4 [==============================] - 5s 1s/step - loss: 0.8310 - accuracy: 0.4688 - val_loss: 0.9887 - val_accuracy: 0.3750 - lr: 0.0100\n",
      "Epoch 3/25\n",
      "4/4 [==============================] - 5s 1s/step - loss: 0.6136 - accuracy: 0.8438 - val_loss: 1.4141 - val_accuracy: 0.3750 - lr: 0.0100\n",
      "Epoch 4/25\n",
      "4/4 [==============================] - 5s 1s/step - loss: 0.4857 - accuracy: 0.8438 - val_loss: 1.0842 - val_accuracy: 0.7500 - lr: 0.0100\n",
      "Epoch 5/25\n",
      "4/4 [==============================] - 5s 1s/step - loss: 0.4941 - accuracy: 0.7812 - val_loss: 0.9976 - val_accuracy: 0.7500 - lr: 0.0100\n",
      "Epoch 6/25\n",
      "4/4 [==============================] - 5s 1s/step - loss: 0.4331 - accuracy: 0.9062 - val_loss: 1.3424 - val_accuracy: 0.3750 - lr: 0.0100\n",
      "Epoch 7/25\n",
      "4/4 [==============================] - 5s 1s/step - loss: 0.3748 - accuracy: 0.9375 - val_loss: 0.9325 - val_accuracy: 0.7500 - lr: 0.0100\n",
      "Epoch 8/25\n",
      "4/4 [==============================] - 5s 1s/step - loss: 0.3333 - accuracy: 0.9375 - val_loss: 0.8890 - val_accuracy: 0.7500 - lr: 0.0100\n",
      "Epoch 9/25\n",
      "4/4 [==============================] - 5s 1s/step - loss: 0.2933 - accuracy: 0.9375 - val_loss: 1.1412 - val_accuracy: 0.5000 - lr: 0.0100\n",
      "Epoch 10/25\n",
      "4/4 [==============================] - 5s 1s/step - loss: 0.3568 - accuracy: 0.8750 - val_loss: 1.0497 - val_accuracy: 0.5000 - lr: 0.0100\n",
      "Epoch 11/25\n",
      "4/4 [==============================] - 5s 1s/step - loss: 0.3004 - accuracy: 0.9375 - val_loss: 0.8242 - val_accuracy: 0.7500 - lr: 0.0020\n",
      "Epoch 12/25\n",
      "4/4 [==============================] - 5s 1s/step - loss: 0.4200 - accuracy: 0.8125 - val_loss: 0.8708 - val_accuracy: 0.6250 - lr: 0.0020\n",
      "Epoch 13/25\n",
      "4/4 [==============================] - 5s 1s/step - loss: 0.3668 - accuracy: 0.8125 - val_loss: 0.7714 - val_accuracy: 0.8750 - lr: 0.0020\n",
      "Epoch 14/25\n",
      "4/4 [==============================] - 6s 1s/step - loss: 0.2462 - accuracy: 0.9688 - val_loss: 0.9322 - val_accuracy: 0.5000 - lr: 0.0020\n",
      "Epoch 15/25\n",
      "4/4 [==============================] - 5s 1s/step - loss: 0.2350 - accuracy: 1.0000 - val_loss: 1.1619 - val_accuracy: 0.5000 - lr: 0.0020\n",
      "Epoch 16/25\n",
      "4/4 [==============================] - 5s 1s/step - loss: 0.2966 - accuracy: 0.9688 - val_loss: 1.2050 - val_accuracy: 0.5000 - lr: 0.0020\n",
      "Epoch 17/25\n",
      "4/4 [==============================] - 5s 1s/step - loss: 0.2754 - accuracy: 0.9688 - val_loss: 1.0207 - val_accuracy: 0.5000 - lr: 0.0020\n",
      "Epoch 18/25\n",
      "4/4 [==============================] - 5s 1s/step - loss: 0.2401 - accuracy: 0.9688 - val_loss: 0.9059 - val_accuracy: 0.5000 - lr: 0.0020\n",
      "Epoch 19/25\n",
      "4/4 [==============================] - 5s 1s/step - loss: 0.2567 - accuracy: 0.9688 - val_loss: 0.8035 - val_accuracy: 0.7500 - lr: 0.0020\n",
      "Epoch 20/25\n",
      "4/4 [==============================] - 5s 1s/step - loss: 0.2308 - accuracy: 1.0000 - val_loss: 0.7697 - val_accuracy: 0.8750 - lr: 0.0020\n",
      "Epoch 21/25\n",
      "4/4 [==============================] - 5s 1s/step - loss: 0.2392 - accuracy: 1.0000 - val_loss: 0.7739 - val_accuracy: 0.8750 - lr: 4.0000e-04\n",
      "Epoch 22/25\n",
      "4/4 [==============================] - 5s 1s/step - loss: 0.2354 - accuracy: 1.0000 - val_loss: 0.7832 - val_accuracy: 0.7500 - lr: 4.0000e-04\n",
      "Epoch 23/25\n",
      "4/4 [==============================] - 5s 1s/step - loss: 0.2177 - accuracy: 1.0000 - val_loss: 0.7974 - val_accuracy: 0.7500 - lr: 4.0000e-04\n",
      "Epoch 24/25\n",
      "4/4 [==============================] - 5s 1s/step - loss: 0.2298 - accuracy: 1.0000 - val_loss: 0.8121 - val_accuracy: 0.5000 - lr: 4.0000e-04\n",
      "Epoch 25/25\n",
      "4/4 [==============================] - 5s 1s/step - loss: 0.2477 - accuracy: 0.9688 - val_loss: 0.8209 - val_accuracy: 0.5000 - lr: 4.0000e-04\n"
     ]
    },
    {
     "name": "stderr",
     "output_type": "stream",
     "text": [
      "2023-01-03 01:23:32.991952: W tensorflow/python/util/util.cc:368] Sets are not currently considered sequences, but this may change in the future, so consider avoiding using them.\n"
     ]
    },
    {
     "name": "stdout",
     "output_type": "stream",
     "text": [
      "INFO:tensorflow:Assets written to: /tmp/tmpfhncuob3/model/data/model/assets\n"
     ]
    },
    {
     "name": "stderr",
     "output_type": "stream",
     "text": [
      "INFO:tensorflow:Assets written to: /tmp/tmpfhncuob3/model/data/model/assets\n"
     ]
    }
   ],
   "source": [
    "initial_epochs = 25\n",
    "\n",
    "history = model.fit(train_dataset,\n",
    "                    validation_data=validation_dataset,\n",
    "                    epochs=initial_epochs,\n",
    "                    callbacks=callback_list)"
   ]
  },
  {
   "cell_type": "markdown",
   "id": "13066a6a",
   "metadata": {},
   "source": [
    "### Step 6: Model Evaluation"
   ]
  },
  {
   "cell_type": "code",
   "execution_count": 32,
   "id": "649af5ae",
   "metadata": {},
   "outputs": [
    {
     "name": "stdout",
     "output_type": "stream",
     "text": [
      "1/1 [==============================] - 1s 606ms/step - loss: 0.8209 - accuracy: 0.5000\n"
     ]
    }
   ],
   "source": [
    "lossfinal, accuracyfinal = model.evaluate(validation_dataset)"
   ]
  },
  {
   "cell_type": "code",
   "execution_count": 33,
   "id": "439618ad",
   "metadata": {},
   "outputs": [
    {
     "name": "stdout",
     "output_type": "stream",
     "text": [
      "final loss: 0.82\n",
      "final accuracy: 0.50\n"
     ]
    }
   ],
   "source": [
    "print(\"final loss: {:.2f}\".format(lossfinal))\n",
    "print(\"final accuracy: {:.2f}\".format(accuracyfinal))"
   ]
  }
 ],
 "metadata": {
  "kernelspec": {
   "display_name": "Python 3",
   "language": "python",
   "name": "python3"
  },
  "language_info": {
   "codemirror_mode": {
    "name": "ipython",
    "version": 3
   },
   "file_extension": ".py",
   "mimetype": "text/x-python",
   "name": "python",
   "nbconvert_exporter": "python",
   "pygments_lexer": "ipython3",
   "version": "3.9.13 (main, May 24 2022, 21:13:54) \n[Clang 13.0.0 (clang-1300.0.29.30)]"
  },
  "vscode": {
   "interpreter": {
    "hash": "b0fa6594d8f4cbf19f97940f81e996739fb7646882a419484c72d19e05852a7e"
   }
  }
 },
 "nbformat": 4,
 "nbformat_minor": 5
}
