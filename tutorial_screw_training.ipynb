{
 "cells": [
  {
   "cell_type": "markdown",
   "id": "9dc58e56",
   "metadata": {},
   "source": [
    "### [Optional] Reset the data folder"
   ]
  },
  {
   "cell_type": "code",
   "execution_count": 1,
   "id": "791dbcbe",
   "metadata": {},
   "outputs": [],
   "source": [
    "!rm -rf ./data/original/ ./data/arrange/"
   ]
  },
  {
   "cell_type": "markdown",
   "id": "ef7b6e6b",
   "metadata": {},
   "source": [
    "## Part 1: Fill in the Variable \n",
    "Please modify the variable to get the correct information."
   ]
  },
  {
   "cell_type": "code",
   "execution_count": 2,
   "id": "03b80591",
   "metadata": {},
   "outputs": [],
   "source": [
    "# Kaggle connection\n",
    "kaggle_username = <kaggle-username>\n",
    "kaggle_key = <kaggle-key>\n",
    "\n",
    "# Label Data file\n",
    "label_data_file_path = \"project-6-at-2022-09-19-04-17-b9f72b54.json\""
   ]
  },
  {
   "cell_type": "code",
   "execution_count": null,
   "id": "55fc7f32",
   "metadata": {},
   "outputs": [],
   "source": [
    "base_learning_rate = 0.01"
   ]
  },
  {
   "cell_type": "markdown",
   "id": "5c7ff95c",
   "metadata": {},
   "source": [
    "## Part 2: Install python package"
   ]
  },
  {
   "cell_type": "code",
   "execution_count": 1,
   "id": "e4a5423b",
   "metadata": {},
   "outputs": [],
   "source": [
    "!pip install -q -r requirements.txt"
   ]
  },
  {
   "cell_type": "markdown",
   "id": "a472dd3a",
   "metadata": {},
   "source": [
    "## Part 3: Data Processing"
   ]
  },
  {
   "cell_type": "markdown",
   "id": "45c21801",
   "metadata": {},
   "source": [
    "### Step 1: Prepare the Data\n",
    "Download and extract the zip file, then follow the tutorial to use Label Studio to label the data."
   ]
  },
  {
   "cell_type": "code",
   "execution_count": 4,
   "id": "133778e2",
   "metadata": {},
   "outputs": [],
   "source": [
    "!export KAGGLE_USERNAME=$kaggle_username\n",
    "!export KAGGLE_KEY=$kaggle_key"
   ]
  },
  {
   "cell_type": "code",
   "execution_count": 5,
   "id": "d4e9bfb4",
   "metadata": {},
   "outputs": [
    {
     "name": "stdout",
     "output_type": "stream",
     "text": [
      "mkdir: cannot create directory ‘./data/label/’: File exists\n"
     ]
    }
   ],
   "source": [
    "# Kaggle dataset: https://www.kaggle.com/datasets/ruruamour/screw-dataset\n",
    "\n",
    "# Image data - original\n",
    "original_data_folder_path = \"./data/original/\"\n",
    "!mkdir $original_data_folder_path\n",
    "!kaggle datasets download -d ruruamour/screw-dataset -p ./data/ -q\n",
    "!unzip -q ./data/screw-dataset.zip -d $original_data_folder_path\n",
    "!rm -rf ./data/screw-dataset.zip\n",
    "\n",
    "# Label data folder\n",
    "label_data_folder_path = \"./data/label/\"\n",
    "!mkdir $label_data_folder_path"
   ]
  },
  {
   "cell_type": "markdown",
   "id": "031c498d",
   "metadata": {},
   "source": [
    "### Step 2: Data ELT pipeline\n",
    "\n",
    "We will do the data ELT pipeline in the following code."
   ]
  },
  {
   "cell_type": "markdown",
   "id": "5814db5d",
   "metadata": {},
   "source": [
    "#### Import the python package"
   ]
  },
  {
   "cell_type": "code",
   "execution_count": 6,
   "id": "9647fccc",
   "metadata": {},
   "outputs": [],
   "source": [
    "import json\n",
    "import shutil\n",
    "import os\n",
    "from pathlib import Path"
   ]
  },
  {
   "cell_type": "markdown",
   "id": "a1561ee7",
   "metadata": {},
   "source": [
    "#### Data Extraction: Read the label studio export json-format file"
   ]
  },
  {
   "cell_type": "code",
   "execution_count": 7,
   "id": "491e1f76",
   "metadata": {},
   "outputs": [
    {
     "data": {
      "text/html": [
       "<div>\n",
       "<style scoped>\n",
       "    .dataframe tbody tr th:only-of-type {\n",
       "        vertical-align: middle;\n",
       "    }\n",
       "\n",
       "    .dataframe tbody tr th {\n",
       "        vertical-align: top;\n",
       "    }\n",
       "\n",
       "    .dataframe thead th {\n",
       "        text-align: right;\n",
       "    }\n",
       "</style>\n",
       "<table border=\"1\" class=\"dataframe\">\n",
       "  <thead>\n",
       "    <tr style=\"text-align: right;\">\n",
       "      <th></th>\n",
       "      <th>image</th>\n",
       "      <th>id</th>\n",
       "      <th>choice</th>\n",
       "      <th>annotator</th>\n",
       "      <th>annotation_id</th>\n",
       "    </tr>\n",
       "  </thead>\n",
       "  <tbody>\n",
       "    <tr>\n",
       "      <th>0</th>\n",
       "      <td>ok001.png</td>\n",
       "      <td>40</td>\n",
       "      <td>good</td>\n",
       "      <td>demo@infuseai.io</td>\n",
       "      <td>44</td>\n",
       "    </tr>\n",
       "    <tr>\n",
       "      <th>1</th>\n",
       "      <td>ok002.png</td>\n",
       "      <td>39</td>\n",
       "      <td>good</td>\n",
       "      <td>demo@infuseai.io</td>\n",
       "      <td>43</td>\n",
       "    </tr>\n",
       "    <tr>\n",
       "      <th>2</th>\n",
       "      <td>ok003.png</td>\n",
       "      <td>38</td>\n",
       "      <td>good</td>\n",
       "      <td>demo@infuseai.io</td>\n",
       "      <td>42</td>\n",
       "    </tr>\n",
       "    <tr>\n",
       "      <th>3</th>\n",
       "      <td>ok004.png</td>\n",
       "      <td>37</td>\n",
       "      <td>good</td>\n",
       "      <td>demo@infuseai.io</td>\n",
       "      <td>41</td>\n",
       "    </tr>\n",
       "    <tr>\n",
       "      <th>4</th>\n",
       "      <td>ok005.png</td>\n",
       "      <td>36</td>\n",
       "      <td>good</td>\n",
       "      <td>demo@infuseai.io</td>\n",
       "      <td>40</td>\n",
       "    </tr>\n",
       "  </tbody>\n",
       "</table>\n",
       "</div>"
      ],
      "text/plain": [
       "       image  id choice         annotator  annotation_id\n",
       "0  ok001.png  40   good  demo@infuseai.io             44\n",
       "1  ok002.png  39   good  demo@infuseai.io             43\n",
       "2  ok003.png  38   good  demo@infuseai.io             42\n",
       "3  ok004.png  37   good  demo@infuseai.io             41\n",
       "4  ok005.png  36   good  demo@infuseai.io             40"
      ]
     },
     "execution_count": 7,
     "metadata": {},
     "output_type": "execute_result"
    }
   ],
   "source": [
    "import pandas as pd\n",
    "\n",
    "df = pd.read_json(os.path.join(label_data_folder_path, label_data_file_path))\n",
    "df['image'] = df['image'].str.split(pat=\"/\", expand=True)[8]\n",
    "df.head()"
   ]
  },
  {
   "cell_type": "markdown",
   "id": "f95b393e",
   "metadata": {},
   "source": [
    "#### Data Load-To: Create a training and validation data folder"
   ]
  },
  {
   "cell_type": "code",
   "execution_count": 8,
   "id": "3a51d313",
   "metadata": {},
   "outputs": [
    {
     "data": {
      "text/plain": [
       "{'train': {'folder_path': './data/arrange/train',\n",
       "  'good': {'folder_path': './data/arrange/train/good'},\n",
       "  'bad': {'folder_path': './data/arrange/train/bad'}},\n",
       " 'valid': {'folder_path': './data/arrange/valid',\n",
       "  'good': {'folder_path': './data/arrange/valid/good'},\n",
       "  'bad': {'folder_path': './data/arrange/valid/bad'}}}"
      ]
     },
     "execution_count": 8,
     "metadata": {},
     "output_type": "execute_result"
    }
   ],
   "source": [
    "arrange_data_folder_path = './data/arrange/'\n",
    "dataset_type_list = ['train', 'valid']\n",
    "label_list = ['good', 'bad']\n",
    "dataset_dict = {}\n",
    "\n",
    "for dataset_type in dataset_type_list:\n",
    "    dataset_dict[dataset_type] = {}\n",
    "    dataset_dict[dataset_type]['folder_path'] = os.path.join(arrange_data_folder_path, dataset_type)\n",
    "    for label in label_list:\n",
    "        arrange_subfolder_path = os.path.join(arrange_data_folder_path, dataset_type, label)\n",
    "        dataset_dict[dataset_type][label] = {}\n",
    "        dataset_dict[dataset_type][label]['folder_path'] = arrange_subfolder_path\n",
    "        os.makedirs(arrange_subfolder_path, exist_ok=True)\n",
    "    \n",
    "dataset_dict"
   ]
  },
  {
   "cell_type": "markdown",
   "id": "57acfcd9",
   "metadata": {},
   "source": [
    "#### Data Transformation: Put the original image data into arrangement folder."
   ]
  },
  {
   "cell_type": "code",
   "execution_count": 9,
   "id": "05f29334",
   "metadata": {},
   "outputs": [
    {
     "data": {
      "text/html": [
       "<div>\n",
       "<style scoped>\n",
       "    .dataframe tbody tr th:only-of-type {\n",
       "        vertical-align: middle;\n",
       "    }\n",
       "\n",
       "    .dataframe tbody tr th {\n",
       "        vertical-align: top;\n",
       "    }\n",
       "\n",
       "    .dataframe thead th {\n",
       "        text-align: right;\n",
       "    }\n",
       "</style>\n",
       "<table border=\"1\" class=\"dataframe\">\n",
       "  <thead>\n",
       "    <tr style=\"text-align: right;\">\n",
       "      <th></th>\n",
       "      <th>image</th>\n",
       "      <th>id</th>\n",
       "      <th>choice</th>\n",
       "      <th>annotator</th>\n",
       "      <th>annotation_id</th>\n",
       "      <th>arrange_path</th>\n",
       "    </tr>\n",
       "  </thead>\n",
       "  <tbody>\n",
       "    <tr>\n",
       "      <th>0</th>\n",
       "      <td>ok001.png</td>\n",
       "      <td>40</td>\n",
       "      <td>good</td>\n",
       "      <td>demo@infuseai.io</td>\n",
       "      <td>44</td>\n",
       "      <td>./data/arrange/valid/good/ok001.png</td>\n",
       "    </tr>\n",
       "    <tr>\n",
       "      <th>1</th>\n",
       "      <td>ok002.png</td>\n",
       "      <td>39</td>\n",
       "      <td>good</td>\n",
       "      <td>demo@infuseai.io</td>\n",
       "      <td>43</td>\n",
       "      <td>./data/arrange/valid/good/ok002.png</td>\n",
       "    </tr>\n",
       "    <tr>\n",
       "      <th>2</th>\n",
       "      <td>ok003.png</td>\n",
       "      <td>38</td>\n",
       "      <td>good</td>\n",
       "      <td>demo@infuseai.io</td>\n",
       "      <td>42</td>\n",
       "      <td>./data/arrange/valid/good/ok003.png</td>\n",
       "    </tr>\n",
       "    <tr>\n",
       "      <th>3</th>\n",
       "      <td>ok004.png</td>\n",
       "      <td>37</td>\n",
       "      <td>good</td>\n",
       "      <td>demo@infuseai.io</td>\n",
       "      <td>41</td>\n",
       "      <td>./data/arrange/valid/good/ok004.png</td>\n",
       "    </tr>\n",
       "    <tr>\n",
       "      <th>4</th>\n",
       "      <td>ok005.png</td>\n",
       "      <td>36</td>\n",
       "      <td>good</td>\n",
       "      <td>demo@infuseai.io</td>\n",
       "      <td>40</td>\n",
       "      <td>./data/arrange/train/good/ok005.png</td>\n",
       "    </tr>\n",
       "  </tbody>\n",
       "</table>\n",
       "</div>"
      ],
      "text/plain": [
       "       image  id choice         annotator  annotation_id  \\\n",
       "0  ok001.png  40   good  demo@infuseai.io             44   \n",
       "1  ok002.png  39   good  demo@infuseai.io             43   \n",
       "2  ok003.png  38   good  demo@infuseai.io             42   \n",
       "3  ok004.png  37   good  demo@infuseai.io             41   \n",
       "4  ok005.png  36   good  demo@infuseai.io             40   \n",
       "\n",
       "                          arrange_path  \n",
       "0  ./data/arrange/valid/good/ok001.png  \n",
       "1  ./data/arrange/valid/good/ok002.png  \n",
       "2  ./data/arrange/valid/good/ok003.png  \n",
       "3  ./data/arrange/valid/good/ok004.png  \n",
       "4  ./data/arrange/train/good/ok005.png  "
      ]
     },
     "execution_count": 9,
     "metadata": {},
     "output_type": "execute_result"
    }
   ],
   "source": [
    "val_count = 4\n",
    "val_good_count = 0\n",
    "val_bad_count = 0\n",
    "\n",
    "arrange_folder_path_list = []\n",
    "for original_file_name, label_result in zip(df['image'], df['choice']):\n",
    "    original_file_path = os.path.join(original_data_folder_path, 'train', original_file_name)\n",
    "    if label_result == 'good':\n",
    "        if val_good_count < val_count:\n",
    "            arrange_file_path = os.path.join(dataset_dict['valid']['good']['folder_path'], original_file_name)\n",
    "            val_good_count = val_good_count + 1\n",
    "        else:\n",
    "            arrange_file_path = os.path.join(dataset_dict['train']['good']['folder_path'], original_file_name)\n",
    "    else:\n",
    "        if val_bad_count < val_count:\n",
    "            arrange_file_path = os.path.join(dataset_dict['valid']['bad']['folder_path'], original_file_name)\n",
    "            val_bad_count = val_bad_count + 1\n",
    "        else:\n",
    "            arrange_file_path = os.path.join(dataset_dict['train']['bad']['folder_path'], original_file_name)\n",
    "    arrange_folder_path_list.append(arrange_file_path)\n",
    "    shutil.copyfile(original_file_path, arrange_file_path)\n",
    "\n",
    "df['arrange_path'] = arrange_folder_path_list\n",
    "df.head()"
   ]
  },
  {
   "cell_type": "markdown",
   "id": "b3b82cda",
   "metadata": {},
   "source": [
    "## Part 3: Model Training Pipeline\n",
    "\n",
    "After labeled all the images, you can run the following cells to start training and log results to MLflow."
   ]
  },
  {
   "cell_type": "markdown",
   "id": "84493468",
   "metadata": {},
   "source": [
    "### Step 1: Import python package"
   ]
  },
  {
   "cell_type": "code",
   "execution_count": 10,
   "id": "69190418",
   "metadata": {},
   "outputs": [],
   "source": [
    "import os\n",
    "import numpy as np\n",
    "import tensorflow as tf\n",
    "import tensorflow_hub as hub\n",
    "import matplotlib.pyplot as plt\n",
    "from tensorflow.keras.preprocessing import image_dataset_from_directory"
   ]
  },
  {
   "cell_type": "markdown",
   "id": "497dfd1b",
   "metadata": {},
   "source": [
    "### Step 2: mlflow initial"
   ]
  },
  {
   "cell_type": "code",
   "execution_count": 11,
   "id": "1d266253",
   "metadata": {},
   "outputs": [],
   "source": [
    "import mlflow\n",
    "mlflow.set_experiment(\"tutorial_screw_train\")\n",
    "mlflow.tensorflow.autolog()"
   ]
  },
  {
   "cell_type": "markdown",
   "id": "abeb1733",
   "metadata": {},
   "source": [
    "### Step 3: Setting dataset"
   ]
  },
  {
   "cell_type": "code",
   "execution_count": 12,
   "id": "f138f67f",
   "metadata": {},
   "outputs": [],
   "source": [
    "BATCH_SIZE = 8\n",
    "IMG_SIZE = (1024, 1024)"
   ]
  },
  {
   "cell_type": "code",
   "execution_count": 13,
   "id": "e2c6ae2c",
   "metadata": {},
   "outputs": [
    {
     "name": "stdout",
     "output_type": "stream",
     "text": [
      "Found 32 files belonging to 2 classes.\n"
     ]
    }
   ],
   "source": [
    "train_dataset = image_dataset_from_directory(dataset_dict['train']['folder_path'],\n",
    "                                             shuffle=True,\n",
    "                                             batch_size=BATCH_SIZE,\n",
    "                                             image_size=IMG_SIZE)"
   ]
  },
  {
   "cell_type": "code",
   "execution_count": 14,
   "id": "894a3ffb",
   "metadata": {},
   "outputs": [
    {
     "name": "stdout",
     "output_type": "stream",
     "text": [
      "Found 8 files belonging to 2 classes.\n"
     ]
    }
   ],
   "source": [
    "validation_dataset = image_dataset_from_directory(dataset_dict['valid']['folder_path'],\n",
    "                                                  shuffle=True,\n",
    "                                                  batch_size=BATCH_SIZE,\n",
    "                                                  image_size=IMG_SIZE)"
   ]
  },
  {
   "cell_type": "markdown",
   "id": "fc5f6c24",
   "metadata": {},
   "source": [
    "#### Show example\n",
    "Show some cases of training examples."
   ]
  },
  {
   "cell_type": "code",
   "execution_count": 15,
   "id": "48fee551",
   "metadata": {},
   "outputs": [
    {
     "data": {
      "image/png": "[encoded data removed]",
      "text/plain": [
       "<Figure size 720x720 with 6 Axes>"
      ]
     },
     "metadata": {
      "needs_background": "light"
     },
     "output_type": "display_data"
    }
   ],
   "source": [
    "class_names = train_dataset.class_names\n",
    "\n",
    "show_img = 1\n",
    "\n",
    "if show_img:\n",
    "    plt.figure(figsize=(10, 10))\n",
    "    for images, labels in train_dataset.take(1):\n",
    "        for i in range(6):\n",
    "            ax = plt.subplot(3, 3, i + 1)\n",
    "            plt.imshow(images[i].numpy().astype(\"uint8\"))\n",
    "            plt.title(class_names[labels[i]])\n",
    "            plt.axis(\"off\")"
   ]
  },
  {
   "cell_type": "markdown",
   "id": "adbe4f45",
   "metadata": {},
   "source": [
    "### Step 4: Build the Model\n",
    "We use mobilenet as our model."
   ]
  },
  {
   "cell_type": "markdown",
   "id": "cf4520d2",
   "metadata": {},
   "source": [
    "#### Build the data augmentation layer"
   ]
  },
  {
   "cell_type": "code",
   "execution_count": 16,
   "id": "e87998bf",
   "metadata": {},
   "outputs": [],
   "source": [
    "data_augmentation = tf.keras.Sequential([\n",
    "    tf.keras.layers.experimental.preprocessing.RandomFlip(),\n",
    "])"
   ]
  },
  {
   "cell_type": "markdown",
   "id": "86a71a59",
   "metadata": {},
   "source": [
    "#### Build the Input preprocessing application layer\n"
   ]
  },
  {
   "cell_type": "code",
   "execution_count": 17,
   "id": "141d78f8",
   "metadata": {},
   "outputs": [],
   "source": [
    "preprocess_input = tf.keras.applications.mobilenet_v2.preprocess_input"
   ]
  },
  {
   "cell_type": "markdown",
   "id": "181f39c9",
   "metadata": {},
   "source": [
    "#### Build the mobilenet v3 base model\n"
   ]
  },
  {
   "cell_type": "code",
   "execution_count": 18,
   "id": "3e4dd567",
   "metadata": {},
   "outputs": [],
   "source": [
    "model_url = \"https://tfhub.dev/google/imagenet/mobilenet_v3_large_100_224/feature_vector/5\"\n",
    "base_model = tf.keras.Sequential([\n",
    "    tf.keras.layers.experimental.preprocessing.Resizing(224, 224),\n",
    "    hub.KerasLayer(model_url, trainable=False)\n",
    "])\n",
    "base_model.build([None, 224, 224, 3])\n",
    "\n",
    "# Change base model trainable is False(We only fine-tune the model in this example.)\n",
    "base_model.trainable = False"
   ]
  },
  {
   "cell_type": "markdown",
   "id": "f2c255a2",
   "metadata": {},
   "source": [
    "#### Build the prediction layer\n"
   ]
  },
  {
   "cell_type": "code",
   "execution_count": 19,
   "id": "534e7dd5",
   "metadata": {},
   "outputs": [],
   "source": [
    "prediction_layer = tf.keras.layers.Dense(1, kernel_regularizer=tf.keras.regularizers.l2(l2=0.1))"
   ]
  },
  {
   "cell_type": "markdown",
   "id": "7f05fa46",
   "metadata": {},
   "source": [
    "#### Combine all the model layer into one model"
   ]
  },
  {
   "cell_type": "code",
   "execution_count": 20,
   "id": "fc66dbe0",
   "metadata": {},
   "outputs": [],
   "source": [
    "inputs = tf.keras.Input(shape=(1024, 1024, 3))\n",
    "x = data_augmentation(inputs)\n",
    "x = preprocess_input(x)\n",
    "x = base_model(x, training=False)\n",
    "outputs = prediction_layer(x)\n",
    "model = tf.keras.Model(inputs, outputs)"
   ]
  },
  {
   "cell_type": "markdown",
   "id": "aac2b949",
   "metadata": {
    "tags": [
     "parameters"
    ]
   },
   "source": [
    "#### Compile the model"
   ]
  },
  {
   "cell_type": "code",
   "execution_count": 21,
   "id": "f3c849f9",
   "metadata": {},
   "outputs": [
    {
     "name": "stderr",
     "output_type": "stream",
     "text": [
      "/opt/conda/lib/python3.7/site-packages/tensorflow/python/keras/optimizer_v2/optimizer_v2.py:375: UserWarning: The `lr` argument is deprecated, use `learning_rate` instead.\n",
      "  \"The `lr` argument is deprecated, use `learning_rate` instead.\")\n"
     ]
    }
   ],
   "source": [
    "model.compile(optimizer=tf.keras.optimizers.SGD(lr=base_learning_rate, momentum=0.9),\n",
    "              loss=tf.keras.losses.BinaryCrossentropy(from_logits=True),\n",
    "              metrics=['accuracy'])"
   ]
  },
  {
   "cell_type": "markdown",
   "id": "de6f92b1",
   "metadata": {},
   "source": [
    "#### Get the model summary"
   ]
  },
  {
   "cell_type": "code",
   "execution_count": 22,
   "id": "f07d28ec",
   "metadata": {},
   "outputs": [
    {
     "name": "stdout",
     "output_type": "stream",
     "text": [
      "Model: \"model\"\n",
      "_________________________________________________________________\n",
      "Layer (type)                 Output Shape              Param #   \n",
      "=================================================================\n",
      "input_1 (InputLayer)         [(None, 1024, 1024, 3)]   0         \n",
      "_________________________________________________________________\n",
      "sequential (Sequential)      (None, 1024, 1024, 3)     0         \n",
      "_________________________________________________________________\n",
      "tf.math.truediv (TFOpLambda) (None, 1024, 1024, 3)     0         \n",
      "_________________________________________________________________\n",
      "tf.math.subtract (TFOpLambda (None, 1024, 1024, 3)     0         \n",
      "_________________________________________________________________\n",
      "sequential_1 (Sequential)    (None, 1280)              4226432   \n",
      "_________________________________________________________________\n",
      "dense (Dense)                (None, 1)                 1281      \n",
      "=================================================================\n",
      "Total params: 4,227,713\n",
      "Trainable params: 1,281\n",
      "Non-trainable params: 4,226,432\n",
      "_________________________________________________________________\n"
     ]
    }
   ],
   "source": [
    "model.summary()"
   ]
  },
  {
   "cell_type": "markdown",
   "id": "01094225",
   "metadata": {},
   "source": [
    "### Step 5: Model Training"
   ]
  },
  {
   "cell_type": "markdown",
   "id": "6b0da9ef",
   "metadata": {},
   "source": [
    "#### Check the initial dataset metrics value"
   ]
  },
  {
   "cell_type": "code",
   "execution_count": 23,
   "id": "c04c72a2",
   "metadata": {},
   "outputs": [
    {
     "name": "stdout",
     "output_type": "stream",
     "text": [
      "1/1 [==============================] - 1s 1s/step - loss: 0.9331 - accuracy: 0.6250\n"
     ]
    }
   ],
   "source": [
    "loss0, accuracy0 = model.evaluate(validation_dataset)"
   ]
  },
  {
   "cell_type": "code",
   "execution_count": 24,
   "id": "1dc66bb0",
   "metadata": {},
   "outputs": [
    {
     "name": "stdout",
     "output_type": "stream",
     "text": [
      "initial loss: 0.93\n",
      "initial accuracy: 0.62\n"
     ]
    }
   ],
   "source": [
    "print(\"initial loss: {:.2f}\".format(loss0))\n",
    "print(\"initial accuracy: {:.2f}\".format(accuracy0))"
   ]
  },
  {
   "cell_type": "markdown",
   "id": "cf4fb4cf",
   "metadata": {},
   "source": [
    "#### Setting the callback"
   ]
  },
  {
   "cell_type": "code",
   "execution_count": 25,
   "id": "cc976af3",
   "metadata": {},
   "outputs": [],
   "source": [
    "def scheduler(epoch, lr):\n",
    "    if epoch >= 10 and epoch % 10 == 0:\n",
    "        return lr / 5\n",
    "    return lr\n",
    "\n",
    "learning_rate_scheduler = tf.keras.callbacks.LearningRateScheduler(scheduler)"
   ]
  },
  {
   "cell_type": "code",
   "execution_count": 26,
   "id": "ea9e36e4",
   "metadata": {},
   "outputs": [],
   "source": [
    "callback_list = [learning_rate_scheduler]"
   ]
  },
  {
   "cell_type": "markdown",
   "id": "e32c1e32",
   "metadata": {},
   "source": [
    "#### Train the model"
   ]
  },
  {
   "cell_type": "code",
   "execution_count": 27,
   "id": "00732c70",
   "metadata": {},
   "outputs": [
    {
     "name": "stderr",
     "output_type": "stream",
     "text": [
      "2022/09/20 12:17:19 INFO mlflow.utils.autologging_utils: Created MLflow autologging run with ID 'fb34289ca91842dba9a1e7954f420b6f', which will track hyperparameters, performance metrics, model artifacts, and lineage information for the current tensorflow workflow\n"
     ]
    },
    {
     "name": "stdout",
     "output_type": "stream",
     "text": [
      "Epoch 1/25\n",
      "4/4 [==============================] - 7s 780ms/step - loss: 0.6938 - accuracy: 0.6562 - val_loss: 1.5036 - val_accuracy: 0.5000\n",
      "Epoch 2/25\n",
      "4/4 [==============================] - 3s 619ms/step - loss: 0.6746 - accuracy: 0.8125 - val_loss: 0.9140 - val_accuracy: 0.5000\n",
      "Epoch 3/25\n",
      "4/4 [==============================] - 3s 644ms/step - loss: 0.5093 - accuracy: 0.8438 - val_loss: 1.0534 - val_accuracy: 0.5000\n",
      "Epoch 4/25\n",
      "4/4 [==============================] - 3s 635ms/step - loss: 0.4262 - accuracy: 0.9062 - val_loss: 1.1246 - val_accuracy: 0.6250\n",
      "Epoch 5/25\n",
      "4/4 [==============================] - 3s 634ms/step - loss: 0.3916 - accuracy: 0.9062 - val_loss: 1.0152 - val_accuracy: 0.5000\n",
      "Epoch 6/25\n",
      "4/4 [==============================] - 3s 632ms/step - loss: 0.3630 - accuracy: 0.9062 - val_loss: 1.0373 - val_accuracy: 0.6250\n",
      "Epoch 7/25\n",
      "4/4 [==============================] - 3s 635ms/step - loss: 0.3209 - accuracy: 1.0000 - val_loss: 0.9396 - val_accuracy: 0.5000\n",
      "Epoch 8/25\n",
      "4/4 [==============================] - 3s 639ms/step - loss: 0.3081 - accuracy: 0.9375 - val_loss: 0.8840 - val_accuracy: 0.5000\n",
      "Epoch 9/25\n",
      "4/4 [==============================] - 3s 625ms/step - loss: 0.3013 - accuracy: 0.9375 - val_loss: 1.1507 - val_accuracy: 0.5000\n",
      "Epoch 10/25\n",
      "4/4 [==============================] - 3s 633ms/step - loss: 0.2846 - accuracy: 0.9688 - val_loss: 0.9288 - val_accuracy: 0.5000\n",
      "Epoch 11/25\n",
      "4/4 [==============================] - 3s 650ms/step - loss: 0.2960 - accuracy: 0.9688 - val_loss: 0.7807 - val_accuracy: 0.7500\n",
      "Epoch 12/25\n",
      "4/4 [==============================] - 3s 634ms/step - loss: 0.3291 - accuracy: 0.8750 - val_loss: 0.7757 - val_accuracy: 0.8750\n",
      "Epoch 13/25\n",
      "4/4 [==============================] - 3s 628ms/step - loss: 0.2422 - accuracy: 0.9688 - val_loss: 0.8132 - val_accuracy: 0.6250\n",
      "Epoch 14/25\n",
      "4/4 [==============================] - 3s 634ms/step - loss: 0.2592 - accuracy: 0.9375 - val_loss: 0.9130 - val_accuracy: 0.6250\n",
      "Epoch 15/25\n",
      "4/4 [==============================] - 3s 635ms/step - loss: 0.2643 - accuracy: 1.0000 - val_loss: 0.9567 - val_accuracy: 0.6250\n",
      "Epoch 16/25\n",
      "4/4 [==============================] - 3s 648ms/step - loss: 0.2375 - accuracy: 0.9688 - val_loss: 0.9559 - val_accuracy: 0.6250\n",
      "Epoch 17/25\n",
      "4/4 [==============================] - 3s 660ms/step - loss: 0.2579 - accuracy: 0.9688 - val_loss: 0.9095 - val_accuracy: 0.6250\n",
      "Epoch 18/25\n",
      "4/4 [==============================] - 3s 636ms/step - loss: 0.2167 - accuracy: 0.9688 - val_loss: 0.8103 - val_accuracy: 0.6250\n",
      "Epoch 19/25\n",
      "4/4 [==============================] - 3s 635ms/step - loss: 0.2453 - accuracy: 0.9688 - val_loss: 0.7937 - val_accuracy: 0.6250\n",
      "Epoch 20/25\n",
      "4/4 [==============================] - 3s 629ms/step - loss: 0.2208 - accuracy: 1.0000 - val_loss: 0.7850 - val_accuracy: 0.7500\n",
      "Epoch 21/25\n",
      "4/4 [==============================] - 3s 653ms/step - loss: 0.2215 - accuracy: 1.0000 - val_loss: 0.7971 - val_accuracy: 0.6250\n",
      "Epoch 22/25\n",
      "4/4 [==============================] - 3s 635ms/step - loss: 0.2147 - accuracy: 1.0000 - val_loss: 0.8068 - val_accuracy: 0.6250\n",
      "Epoch 23/25\n",
      "4/4 [==============================] - 3s 631ms/step - loss: 0.2069 - accuracy: 1.0000 - val_loss: 0.8173 - val_accuracy: 0.6250\n",
      "Epoch 24/25\n",
      "4/4 [==============================] - 3s 636ms/step - loss: 0.2261 - accuracy: 1.0000 - val_loss: 0.8250 - val_accuracy: 0.6250\n",
      "Epoch 25/25\n",
      "4/4 [==============================] - 3s 634ms/step - loss: 0.2219 - accuracy: 0.9688 - val_loss: 0.8234 - val_accuracy: 0.6250\n",
      "INFO:tensorflow:Assets written to: /tmp/tmpm36cblgf/model/data/model/assets\n"
     ]
    },
    {
     "name": "stderr",
     "output_type": "stream",
     "text": [
      "INFO:tensorflow:Assets written to: /tmp/tmpm36cblgf/model/data/model/assets\n"
     ]
    }
   ],
   "source": [
    "initial_epochs = 25\n",
    "\n",
    "history = model.fit(train_dataset,\n",
    "                    validation_data=validation_dataset,\n",
    "                    epochs=initial_epochs,\n",
    "                    callbacks=callback_list)"
   ]
  },
  {
   "cell_type": "markdown",
   "id": "fc1d3f6d",
   "metadata": {},
   "source": [
    "### Step 6: Model Evaluation"
   ]
  },
  {
   "cell_type": "code",
   "execution_count": 28,
   "id": "a5ea0f16",
   "metadata": {},
   "outputs": [
    {
     "name": "stdout",
     "output_type": "stream",
     "text": [
      "1/1 [==============================] - 0s 301ms/step - loss: 0.8234 - accuracy: 0.6250\n"
     ]
    }
   ],
   "source": [
    "lossfinal, accuracyfinal = model.evaluate(validation_dataset)"
   ]
  },
  {
   "cell_type": "code",
   "execution_count": 29,
   "id": "3523a69a",
   "metadata": {},
   "outputs": [
    {
     "name": "stdout",
     "output_type": "stream",
     "text": [
      "final loss: 0.82\n",
      "final accuracy: 0.62\n"
     ]
    }
   ],
   "source": [
    "print(\"final loss: {:.2f}\".format(lossfinal))\n",
    "print(\"final accuracy: {:.2f}\".format(accuracyfinal))"
   ]
  },
  {
   "cell_type": "code",
   "execution_count": null,
   "id": "3931cf77",
   "metadata": {},
   "outputs": [],
   "source": []
  }
 ],
 "metadata": {
  "kernelspec": {
   "display_name": "Python 3",
   "language": "python",
   "name": "python3"
  },
  "language_info": {
   "codemirror_mode": {
    "name": "ipython",
    "version": 3
   },
   "file_extension": ".py",
   "mimetype": "text/x-python",
   "name": "python",
   "nbconvert_exporter": "python",
   "pygments_lexer": "ipython3",
   "version": "3.7.10"
  }
 },
 "nbformat": 4,
 "nbformat_minor": 5
}
