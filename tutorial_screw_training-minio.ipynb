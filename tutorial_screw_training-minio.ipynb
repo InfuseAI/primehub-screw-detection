{
 "cells": [
  {
   "cell_type": "markdown",
   "id": "6608b50d",
   "metadata": {
    "tags": [
     "parameters"
    ]
   },
   "source": [
    "### [Optional] Reset the data folder"
   ]
  },
  {
   "cell_type": "code",
   "execution_count": 1,
   "id": "dfd63a5c",
   "metadata": {},
   "outputs": [],
   "source": [
    "!rm -rf ./data/original/ ./data/arrange/ ~/.kaggle/"
   ]
  },
  {
   "cell_type": "code",
   "execution_count": 2,
   "id": "b459f618",
   "metadata": {},
   "outputs": [],
   "source": [
    "import os\n",
    "os.environ['MLFLOW_S3_ENDPOINT_URL'] = \"http://35.77.37.21:9000/\"\n",
    "os.environ['AWS_ACCESS_KEY_ID'] = \"minioaccount\"\n",
    "os.environ['AWS_SECRET_ACCESS_KEY'] = \"miniopassword\""
   ]
  },
  {
   "cell_type": "markdown",
   "id": "5de18cce",
   "metadata": {},
   "source": [
    "## Part 1: Fill in the Variable \n",
    "Please modify the variable to get the correct information."
   ]
  },
  {
   "cell_type": "code",
   "execution_count": 3,
   "id": "f5fbb175",
   "metadata": {},
   "outputs": [],
   "source": [
    "# Kaggle connection\n",
    "kaggle_api_token = {\"username\":\"weichiou\",\"key\":\"f5d5c9aa0d42cdc3229c75dfcc751feb\"}\n",
    "\n",
    "# Label Data file\n",
    "label_data_file_path = \"project-6-at-2022-09-19-04-17-b9f72b54.json\""
   ]
  },
  {
   "cell_type": "code",
   "execution_count": 4,
   "id": "9928adeb",
   "metadata": {},
   "outputs": [],
   "source": [
    "# Model learning rate\n",
    "base_learning_rate = 0.01"
   ]
  },
  {
   "cell_type": "code",
   "execution_count": 5,
   "id": "52e89807",
   "metadata": {},
   "outputs": [],
   "source": [
    "# MLFlow experiment name\n",
    "mlflow_experiment_name = \"tutorial_screw_train\""
   ]
  },
  {
   "cell_type": "markdown",
   "id": "dc433953",
   "metadata": {},
   "source": [
    "## Part 2: Install python package"
   ]
  },
  {
   "cell_type": "code",
   "execution_count": 6,
   "id": "31731b82",
   "metadata": {},
   "outputs": [],
   "source": [
    "!pip install -q -r ./jupyter-image/requirements.txt"
   ]
  },
  {
   "cell_type": "markdown",
   "id": "d2eccba1",
   "metadata": {},
   "source": [
    "## Part 3: Data Processing"
   ]
  },
  {
   "cell_type": "markdown",
   "id": "d4e47cad",
   "metadata": {},
   "source": [
    "### Step 1: Prepare the Data\n",
    "Download and extract the zip file, then follow the tutorial to use Label Studio to label the data."
   ]
  },
  {
   "cell_type": "code",
   "execution_count": 7,
   "id": "365c553a",
   "metadata": {},
   "outputs": [],
   "source": [
    "!mkdir ~/.kaggle/\n",
    "!touch ~/.kaggle/kaggle.json"
   ]
  },
  {
   "cell_type": "code",
   "execution_count": 8,
   "id": "8407d97d",
   "metadata": {},
   "outputs": [],
   "source": [
    "import os\n",
    "import json\n",
    "\n",
    "with open('{}/.kaggle/kaggle.json'.format(os.path.expanduser('~')), 'w') as file:\n",
    "    json.dump(kaggle_api_token, file)"
   ]
  },
  {
   "cell_type": "code",
   "execution_count": 9,
   "id": "d41421f4",
   "metadata": {},
   "outputs": [],
   "source": [
    "!chmod 600 ~/.kaggle/kaggle.json"
   ]
  },
  {
   "cell_type": "code",
   "execution_count": 10,
   "id": "5aa1ef6b",
   "metadata": {},
   "outputs": [
    {
     "name": "stdout",
     "output_type": "stream",
     "text": [
      "mkdir: cannot create directory ‘./data/label/’: File exists\n"
     ]
    }
   ],
   "source": [
    "# Kaggle dataset: https://www.kaggle.com/datasets/ruruamour/screw-dataset\n",
    "\n",
    "# Image data - original\n",
    "original_data_folder_path = \"./data/original/\"\n",
    "!mkdir $original_data_folder_path\n",
    "!kaggle datasets download -d ruruamour/screw-dataset -p ./data/ -q\n",
    "!unzip -q ./data/screw-dataset.zip -d $original_data_folder_path\n",
    "!rm -rf ./data/screw-dataset.zip\n",
    "\n",
    "# Label data folder\n",
    "label_data_folder_path = \"./data/label/\"\n",
    "!mkdir $label_data_folder_path"
   ]
  },
  {
   "cell_type": "markdown",
   "id": "60c2e2a1",
   "metadata": {},
   "source": [
    "### Step 2: Data ELT pipeline\n",
    "\n",
    "We will do the data ELT pipeline in the following code."
   ]
  },
  {
   "cell_type": "markdown",
   "id": "f87a6d9e",
   "metadata": {},
   "source": [
    "#### Import the python package"
   ]
  },
  {
   "cell_type": "code",
   "execution_count": 11,
   "id": "f795eaa0",
   "metadata": {},
   "outputs": [],
   "source": [
    "import json\n",
    "import shutil\n",
    "import os\n",
    "from pathlib import Path"
   ]
  },
  {
   "cell_type": "markdown",
   "id": "0b35dab5",
   "metadata": {},
   "source": [
    "#### Data Extraction: Read the label studio export json-format file"
   ]
  },
  {
   "cell_type": "code",
   "execution_count": 12,
   "id": "85a05dc6",
   "metadata": {},
   "outputs": [
    {
     "data": {
      "text/html": [
       "<div>\n",
       "<style scoped>\n",
       "    .dataframe tbody tr th:only-of-type {\n",
       "        vertical-align: middle;\n",
       "    }\n",
       "\n",
       "    .dataframe tbody tr th {\n",
       "        vertical-align: top;\n",
       "    }\n",
       "\n",
       "    .dataframe thead th {\n",
       "        text-align: right;\n",
       "    }\n",
       "</style>\n",
       "<table border=\"1\" class=\"dataframe\">\n",
       "  <thead>\n",
       "    <tr style=\"text-align: right;\">\n",
       "      <th></th>\n",
       "      <th>image</th>\n",
       "      <th>id</th>\n",
       "      <th>choice</th>\n",
       "      <th>annotator</th>\n",
       "      <th>annotation_id</th>\n",
       "    </tr>\n",
       "  </thead>\n",
       "  <tbody>\n",
       "    <tr>\n",
       "      <th>0</th>\n",
       "      <td>ok001.png</td>\n",
       "      <td>40</td>\n",
       "      <td>good</td>\n",
       "      <td>demo@infuseai.io</td>\n",
       "      <td>44</td>\n",
       "    </tr>\n",
       "    <tr>\n",
       "      <th>1</th>\n",
       "      <td>ok002.png</td>\n",
       "      <td>39</td>\n",
       "      <td>good</td>\n",
       "      <td>demo@infuseai.io</td>\n",
       "      <td>43</td>\n",
       "    </tr>\n",
       "    <tr>\n",
       "      <th>2</th>\n",
       "      <td>ok003.png</td>\n",
       "      <td>38</td>\n",
       "      <td>good</td>\n",
       "      <td>demo@infuseai.io</td>\n",
       "      <td>42</td>\n",
       "    </tr>\n",
       "    <tr>\n",
       "      <th>3</th>\n",
       "      <td>ok004.png</td>\n",
       "      <td>37</td>\n",
       "      <td>good</td>\n",
       "      <td>demo@infuseai.io</td>\n",
       "      <td>41</td>\n",
       "    </tr>\n",
       "    <tr>\n",
       "      <th>4</th>\n",
       "      <td>ok005.png</td>\n",
       "      <td>36</td>\n",
       "      <td>good</td>\n",
       "      <td>demo@infuseai.io</td>\n",
       "      <td>40</td>\n",
       "    </tr>\n",
       "  </tbody>\n",
       "</table>\n",
       "</div>"
      ],
      "text/plain": [
       "       image  id choice         annotator  annotation_id\n",
       "0  ok001.png  40   good  demo@infuseai.io             44\n",
       "1  ok002.png  39   good  demo@infuseai.io             43\n",
       "2  ok003.png  38   good  demo@infuseai.io             42\n",
       "3  ok004.png  37   good  demo@infuseai.io             41\n",
       "4  ok005.png  36   good  demo@infuseai.io             40"
      ]
     },
     "execution_count": 12,
     "metadata": {},
     "output_type": "execute_result"
    }
   ],
   "source": [
    "import pandas as pd\n",
    "\n",
    "df = pd.read_json(os.path.join(label_data_folder_path, label_data_file_path))\n",
    "df['image'] = df['image'].str.split(pat=\"/\", expand=True)[8]\n",
    "df.head()"
   ]
  },
  {
   "cell_type": "markdown",
   "id": "edbf252b",
   "metadata": {},
   "source": [
    "#### Data Load-To: Create a training and validation data folder"
   ]
  },
  {
   "cell_type": "code",
   "execution_count": 13,
   "id": "75de50f2",
   "metadata": {},
   "outputs": [
    {
     "data": {
      "text/plain": [
       "{'train': {'folder_path': './data/arrange/train',\n",
       "  'good': {'folder_path': './data/arrange/train/good'},\n",
       "  'bad': {'folder_path': './data/arrange/train/bad'}},\n",
       " 'valid': {'folder_path': './data/arrange/valid',\n",
       "  'good': {'folder_path': './data/arrange/valid/good'},\n",
       "  'bad': {'folder_path': './data/arrange/valid/bad'}}}"
      ]
     },
     "execution_count": 13,
     "metadata": {},
     "output_type": "execute_result"
    }
   ],
   "source": [
    "arrange_data_folder_path = './data/arrange/'\n",
    "dataset_type_list = ['train', 'valid']\n",
    "label_list = ['good', 'bad']\n",
    "dataset_dict = {}\n",
    "\n",
    "for dataset_type in dataset_type_list:\n",
    "    dataset_dict[dataset_type] = {}\n",
    "    dataset_dict[dataset_type]['folder_path'] = os.path.join(arrange_data_folder_path, dataset_type)\n",
    "    for label in label_list:\n",
    "        arrange_subfolder_path = os.path.join(arrange_data_folder_path, dataset_type, label)\n",
    "        dataset_dict[dataset_type][label] = {}\n",
    "        dataset_dict[dataset_type][label]['folder_path'] = arrange_subfolder_path\n",
    "        os.makedirs(arrange_subfolder_path, exist_ok=True)\n",
    "    \n",
    "dataset_dict"
   ]
  },
  {
   "cell_type": "markdown",
   "id": "1f7cfaab",
   "metadata": {},
   "source": [
    "#### Data Transformation: Put the original image data into arrangement folder."
   ]
  },
  {
   "cell_type": "code",
   "execution_count": 14,
   "id": "5117f832",
   "metadata": {},
   "outputs": [
    {
     "data": {
      "text/html": [
       "<div>\n",
       "<style scoped>\n",
       "    .dataframe tbody tr th:only-of-type {\n",
       "        vertical-align: middle;\n",
       "    }\n",
       "\n",
       "    .dataframe tbody tr th {\n",
       "        vertical-align: top;\n",
       "    }\n",
       "\n",
       "    .dataframe thead th {\n",
       "        text-align: right;\n",
       "    }\n",
       "</style>\n",
       "<table border=\"1\" class=\"dataframe\">\n",
       "  <thead>\n",
       "    <tr style=\"text-align: right;\">\n",
       "      <th></th>\n",
       "      <th>image</th>\n",
       "      <th>id</th>\n",
       "      <th>choice</th>\n",
       "      <th>annotator</th>\n",
       "      <th>annotation_id</th>\n",
       "      <th>arrange_path</th>\n",
       "    </tr>\n",
       "  </thead>\n",
       "  <tbody>\n",
       "    <tr>\n",
       "      <th>0</th>\n",
       "      <td>ok001.png</td>\n",
       "      <td>40</td>\n",
       "      <td>good</td>\n",
       "      <td>demo@infuseai.io</td>\n",
       "      <td>44</td>\n",
       "      <td>./data/arrange/valid/good/ok001.png</td>\n",
       "    </tr>\n",
       "    <tr>\n",
       "      <th>1</th>\n",
       "      <td>ok002.png</td>\n",
       "      <td>39</td>\n",
       "      <td>good</td>\n",
       "      <td>demo@infuseai.io</td>\n",
       "      <td>43</td>\n",
       "      <td>./data/arrange/valid/good/ok002.png</td>\n",
       "    </tr>\n",
       "    <tr>\n",
       "      <th>2</th>\n",
       "      <td>ok003.png</td>\n",
       "      <td>38</td>\n",
       "      <td>good</td>\n",
       "      <td>demo@infuseai.io</td>\n",
       "      <td>42</td>\n",
       "      <td>./data/arrange/valid/good/ok003.png</td>\n",
       "    </tr>\n",
       "    <tr>\n",
       "      <th>3</th>\n",
       "      <td>ok004.png</td>\n",
       "      <td>37</td>\n",
       "      <td>good</td>\n",
       "      <td>demo@infuseai.io</td>\n",
       "      <td>41</td>\n",
       "      <td>./data/arrange/valid/good/ok004.png</td>\n",
       "    </tr>\n",
       "    <tr>\n",
       "      <th>4</th>\n",
       "      <td>ok005.png</td>\n",
       "      <td>36</td>\n",
       "      <td>good</td>\n",
       "      <td>demo@infuseai.io</td>\n",
       "      <td>40</td>\n",
       "      <td>./data/arrange/train/good/ok005.png</td>\n",
       "    </tr>\n",
       "  </tbody>\n",
       "</table>\n",
       "</div>"
      ],
      "text/plain": [
       "       image  id choice         annotator  annotation_id  \\\n",
       "0  ok001.png  40   good  demo@infuseai.io             44   \n",
       "1  ok002.png  39   good  demo@infuseai.io             43   \n",
       "2  ok003.png  38   good  demo@infuseai.io             42   \n",
       "3  ok004.png  37   good  demo@infuseai.io             41   \n",
       "4  ok005.png  36   good  demo@infuseai.io             40   \n",
       "\n",
       "                          arrange_path  \n",
       "0  ./data/arrange/valid/good/ok001.png  \n",
       "1  ./data/arrange/valid/good/ok002.png  \n",
       "2  ./data/arrange/valid/good/ok003.png  \n",
       "3  ./data/arrange/valid/good/ok004.png  \n",
       "4  ./data/arrange/train/good/ok005.png  "
      ]
     },
     "execution_count": 14,
     "metadata": {},
     "output_type": "execute_result"
    }
   ],
   "source": [
    "val_count = 4\n",
    "val_good_count = 0\n",
    "val_bad_count = 0\n",
    "\n",
    "arrange_folder_path_list = []\n",
    "for original_file_name, label_result in zip(df['image'], df['choice']):\n",
    "    original_file_path = os.path.join(original_data_folder_path, 'train', original_file_name)\n",
    "    if label_result == 'good':\n",
    "        if val_good_count < val_count:\n",
    "            arrange_file_path = os.path.join(dataset_dict['valid']['good']['folder_path'], original_file_name)\n",
    "            val_good_count = val_good_count + 1\n",
    "        else:\n",
    "            arrange_file_path = os.path.join(dataset_dict['train']['good']['folder_path'], original_file_name)\n",
    "    else:\n",
    "        if val_bad_count < val_count:\n",
    "            arrange_file_path = os.path.join(dataset_dict['valid']['bad']['folder_path'], original_file_name)\n",
    "            val_bad_count = val_bad_count + 1\n",
    "        else:\n",
    "            arrange_file_path = os.path.join(dataset_dict['train']['bad']['folder_path'], original_file_name)\n",
    "    arrange_folder_path_list.append(arrange_file_path)\n",
    "    shutil.copyfile(original_file_path, arrange_file_path)\n",
    "\n",
    "df['arrange_path'] = arrange_folder_path_list\n",
    "df.head()"
   ]
  },
  {
   "cell_type": "markdown",
   "id": "f1d18527",
   "metadata": {},
   "source": [
    "## Part 3: Model Training Pipeline\n",
    "\n",
    "After labeled all the images, you can run the following cells to start training and log results to MLflow."
   ]
  },
  {
   "cell_type": "markdown",
   "id": "27eeccf7",
   "metadata": {},
   "source": [
    "### Step 1: Import python package"
   ]
  },
  {
   "cell_type": "code",
   "execution_count": 15,
   "id": "db8b7815",
   "metadata": {},
   "outputs": [],
   "source": [
    "import os\n",
    "import numpy as np\n",
    "import tensorflow as tf\n",
    "import tensorflow_hub as hub\n",
    "import matplotlib.pyplot as plt\n",
    "from tensorflow.keras.preprocessing import image_dataset_from_directory"
   ]
  },
  {
   "cell_type": "markdown",
   "id": "036a494e",
   "metadata": {},
   "source": [
    "### Step 2: mlflow initial"
   ]
  },
  {
   "cell_type": "code",
   "execution_count": 16,
   "id": "4aa249e2",
   "metadata": {},
   "outputs": [],
   "source": [
    "import mlflow\n",
    "mlflow.set_experiment(mlflow_experiment_name)\n",
    "mlflow.tensorflow.autolog()"
   ]
  },
  {
   "cell_type": "markdown",
   "id": "666f16ab",
   "metadata": {},
   "source": [
    "### Step 3: Setting dataset"
   ]
  },
  {
   "cell_type": "code",
   "execution_count": 17,
   "id": "ddd65ecc",
   "metadata": {},
   "outputs": [],
   "source": [
    "BATCH_SIZE = 8\n",
    "IMG_SIZE = (1024, 1024)"
   ]
  },
  {
   "cell_type": "code",
   "execution_count": 18,
   "id": "cf0b79e5",
   "metadata": {},
   "outputs": [
    {
     "name": "stdout",
     "output_type": "stream",
     "text": [
      "Found 32 files belonging to 2 classes.\n"
     ]
    }
   ],
   "source": [
    "train_dataset = image_dataset_from_directory(dataset_dict['train']['folder_path'],\n",
    "                                             shuffle=True,\n",
    "                                             batch_size=BATCH_SIZE,\n",
    "                                             image_size=IMG_SIZE)"
   ]
  },
  {
   "cell_type": "code",
   "execution_count": 19,
   "id": "fbb18cfc",
   "metadata": {},
   "outputs": [
    {
     "name": "stdout",
     "output_type": "stream",
     "text": [
      "Found 8 files belonging to 2 classes.\n"
     ]
    }
   ],
   "source": [
    "validation_dataset = image_dataset_from_directory(dataset_dict['valid']['folder_path'],\n",
    "                                                  shuffle=True,\n",
    "                                                  batch_size=BATCH_SIZE,\n",
    "                                                  image_size=IMG_SIZE)"
   ]
  },
  {
   "cell_type": "markdown",
   "id": "4b3bf4fa",
   "metadata": {},
   "source": [
    "#### Show example\n",
    "Show some cases of training examples."
   ]
  },
  {
   "cell_type": "code",
   "execution_count": 20,
   "id": "f7fb4d0b",
   "metadata": {},
   "outputs": [
    {
     "data": {
      "image/png": "[encoded data removed]",
      "text/plain": [
       "<Figure size 720x720 with 6 Axes>"
      ]
     },
     "metadata": {
      "needs_background": "light"
     },
     "output_type": "display_data"
    }
   ],
   "source": [
    "class_names = train_dataset.class_names\n",
    "\n",
    "show_img = 1\n",
    "\n",
    "if show_img:\n",
    "    plt.figure(figsize=(10, 10))\n",
    "    for images, labels in train_dataset.take(1):\n",
    "        for i in range(6):\n",
    "            ax = plt.subplot(3, 3, i + 1)\n",
    "            plt.imshow(images[i].numpy().astype(\"uint8\"))\n",
    "            plt.title(class_names[labels[i]])\n",
    "            plt.axis(\"off\")"
   ]
  },
  {
   "cell_type": "markdown",
   "id": "4945f4fa",
   "metadata": {},
   "source": [
    "### Step 4: Build the Model\n",
    "We use mobilenet as our model."
   ]
  },
  {
   "cell_type": "markdown",
   "id": "23c57ba1",
   "metadata": {},
   "source": [
    "#### Build the data augmentation layer"
   ]
  },
  {
   "cell_type": "code",
   "execution_count": 21,
   "id": "bd278c41",
   "metadata": {},
   "outputs": [],
   "source": [
    "data_augmentation = tf.keras.Sequential([\n",
    "    tf.keras.layers.experimental.preprocessing.RandomFlip(),\n",
    "])"
   ]
  },
  {
   "cell_type": "markdown",
   "id": "fbd2a7fc",
   "metadata": {},
   "source": [
    "#### Build the Input preprocessing application layer\n"
   ]
  },
  {
   "cell_type": "code",
   "execution_count": 22,
   "id": "8348f9fc",
   "metadata": {},
   "outputs": [],
   "source": [
    "preprocess_input = tf.keras.applications.mobilenet_v2.preprocess_input"
   ]
  },
  {
   "cell_type": "markdown",
   "id": "9002c3c4",
   "metadata": {},
   "source": [
    "#### Build the mobilenet v3 base model\n"
   ]
  },
  {
   "cell_type": "code",
   "execution_count": 23,
   "id": "37d7e393",
   "metadata": {},
   "outputs": [],
   "source": [
    "model_url = \"https://tfhub.dev/google/imagenet/mobilenet_v3_large_100_224/feature_vector/5\"\n",
    "base_model = tf.keras.Sequential([\n",
    "    tf.keras.layers.experimental.preprocessing.Resizing(224, 224),\n",
    "    hub.KerasLayer(model_url, trainable=False)\n",
    "])\n",
    "base_model.build([None, 224, 224, 3])\n",
    "\n",
    "# Change base model trainable is False(We only fine-tune the model in this example.)\n",
    "base_model.trainable = False"
   ]
  },
  {
   "cell_type": "markdown",
   "id": "e28fcff8",
   "metadata": {},
   "source": [
    "#### Build the prediction layer\n"
   ]
  },
  {
   "cell_type": "code",
   "execution_count": 24,
   "id": "35d6ef89",
   "metadata": {},
   "outputs": [],
   "source": [
    "prediction_layer = tf.keras.layers.Dense(1, kernel_regularizer=tf.keras.regularizers.l2(l2=0.1))"
   ]
  },
  {
   "cell_type": "markdown",
   "id": "669db1d0",
   "metadata": {},
   "source": [
    "#### Combine all the model layer into one model"
   ]
  },
  {
   "cell_type": "code",
   "execution_count": 25,
   "id": "77e9192d",
   "metadata": {},
   "outputs": [],
   "source": [
    "inputs = tf.keras.Input(shape=(1024, 1024, 3))\n",
    "x = data_augmentation(inputs)\n",
    "x = preprocess_input(x)\n",
    "x = base_model(x, training=False)\n",
    "outputs = prediction_layer(x)\n",
    "model = tf.keras.Model(inputs, outputs)"
   ]
  },
  {
   "cell_type": "markdown",
   "id": "492f3261",
   "metadata": {
    "tags": [
     "parameters"
    ]
   },
   "source": [
    "#### Compile the model"
   ]
  },
  {
   "cell_type": "code",
   "execution_count": 26,
   "id": "888764d1",
   "metadata": {},
   "outputs": [
    {
     "name": "stderr",
     "output_type": "stream",
     "text": [
      "/opt/conda/lib/python3.7/site-packages/tensorflow/python/keras/optimizer_v2/optimizer_v2.py:375: UserWarning: The `lr` argument is deprecated, use `learning_rate` instead.\n",
      "  \"The `lr` argument is deprecated, use `learning_rate` instead.\")\n"
     ]
    }
   ],
   "source": [
    "model.compile(optimizer=tf.keras.optimizers.SGD(lr=base_learning_rate, momentum=0.9),\n",
    "              loss=tf.keras.losses.BinaryCrossentropy(from_logits=True),\n",
    "              metrics=['accuracy'])"
   ]
  },
  {
   "cell_type": "markdown",
   "id": "b635fddb",
   "metadata": {},
   "source": [
    "#### Get the model summary"
   ]
  },
  {
   "cell_type": "code",
   "execution_count": 27,
   "id": "93e4a9c2",
   "metadata": {},
   "outputs": [
    {
     "name": "stdout",
     "output_type": "stream",
     "text": [
      "Model: \"model\"\n",
      "_________________________________________________________________\n",
      "Layer (type)                 Output Shape              Param #   \n",
      "=================================================================\n",
      "input_1 (InputLayer)         [(None, 1024, 1024, 3)]   0         \n",
      "_________________________________________________________________\n",
      "sequential (Sequential)      (None, 1024, 1024, 3)     0         \n",
      "_________________________________________________________________\n",
      "tf.math.truediv (TFOpLambda) (None, 1024, 1024, 3)     0         \n",
      "_________________________________________________________________\n",
      "tf.math.subtract (TFOpLambda (None, 1024, 1024, 3)     0         \n",
      "_________________________________________________________________\n",
      "sequential_1 (Sequential)    (None, 1280)              4226432   \n",
      "_________________________________________________________________\n",
      "dense (Dense)                (None, 1)                 1281      \n",
      "=================================================================\n",
      "Total params: 4,227,713\n",
      "Trainable params: 1,281\n",
      "Non-trainable params: 4,226,432\n",
      "_________________________________________________________________\n"
     ]
    }
   ],
   "source": [
    "model.summary()"
   ]
  },
  {
   "cell_type": "markdown",
   "id": "30449e3b",
   "metadata": {},
   "source": [
    "### Step 5: Model Training"
   ]
  },
  {
   "cell_type": "markdown",
   "id": "68dccef5",
   "metadata": {},
   "source": [
    "#### Check the initial dataset metrics value"
   ]
  },
  {
   "cell_type": "code",
   "execution_count": 28,
   "id": "9852ffa4",
   "metadata": {},
   "outputs": [
    {
     "name": "stdout",
     "output_type": "stream",
     "text": [
      "1/1 [==============================] - 1s 1s/step - loss: 0.9948 - accuracy: 0.5000\n"
     ]
    }
   ],
   "source": [
    "loss0, accuracy0 = model.evaluate(validation_dataset)"
   ]
  },
  {
   "cell_type": "code",
   "execution_count": 29,
   "id": "50f93adc",
   "metadata": {},
   "outputs": [
    {
     "name": "stdout",
     "output_type": "stream",
     "text": [
      "initial loss: 0.99\n",
      "initial accuracy: 0.50\n"
     ]
    }
   ],
   "source": [
    "print(\"initial loss: {:.2f}\".format(loss0))\n",
    "print(\"initial accuracy: {:.2f}\".format(accuracy0))"
   ]
  },
  {
   "cell_type": "markdown",
   "id": "b9dc6716",
   "metadata": {},
   "source": [
    "#### Setting the callback"
   ]
  },
  {
   "cell_type": "code",
   "execution_count": 30,
   "id": "8ffeec0b",
   "metadata": {},
   "outputs": [],
   "source": [
    "def scheduler(epoch, lr):\n",
    "    if epoch >= 10 and epoch % 10 == 0:\n",
    "        return lr / 5\n",
    "    return lr\n",
    "\n",
    "learning_rate_scheduler = tf.keras.callbacks.LearningRateScheduler(scheduler)"
   ]
  },
  {
   "cell_type": "code",
   "execution_count": 31,
   "id": "305ba269",
   "metadata": {},
   "outputs": [],
   "source": [
    "callback_list = [learning_rate_scheduler]"
   ]
  },
  {
   "cell_type": "markdown",
   "id": "6273b118",
   "metadata": {},
   "source": [
    "#### Train the model"
   ]
  },
  {
   "cell_type": "code",
   "execution_count": 32,
   "id": "a1b033b8",
   "metadata": {},
   "outputs": [
    {
     "name": "stderr",
     "output_type": "stream",
     "text": [
      "2023/07/07 09:15:53 INFO mlflow.utils.autologging_utils: Created MLflow autologging run with ID '88cc17db099b4d128ea060b9ad9e7e20', which will track hyperparameters, performance metrics, model artifacts, and lineage information for the current tensorflow workflow\n"
     ]
    },
    {
     "name": "stdout",
     "output_type": "stream",
     "text": [
      "Epoch 1/25\n",
      "4/4 [==============================] - 8s 899ms/step - loss: 0.8622 - accuracy: 0.5625 - val_loss: 2.8353 - val_accuracy: 0.5000\n",
      "Epoch 2/25\n",
      "4/4 [==============================] - 3s 710ms/step - loss: 1.0683 - accuracy: 0.8125 - val_loss: 2.1150 - val_accuracy: 0.5000\n",
      "Epoch 3/25\n",
      "4/4 [==============================] - 3s 710ms/step - loss: 0.7156 - accuracy: 0.7188 - val_loss: 0.9413 - val_accuracy: 0.7500\n",
      "Epoch 4/25\n",
      "4/4 [==============================] - 3s 702ms/step - loss: 0.5865 - accuracy: 0.7500 - val_loss: 1.3753 - val_accuracy: 0.5000\n",
      "Epoch 5/25\n",
      "4/4 [==============================] - 3s 707ms/step - loss: 0.4899 - accuracy: 0.8438 - val_loss: 1.0727 - val_accuracy: 0.6250\n",
      "Epoch 6/25\n",
      "4/4 [==============================] - 3s 719ms/step - loss: 0.4339 - accuracy: 0.9375 - val_loss: 0.9358 - val_accuracy: 0.7500\n",
      "Epoch 7/25\n",
      "4/4 [==============================] - 3s 707ms/step - loss: 0.3296 - accuracy: 0.9375 - val_loss: 0.9918 - val_accuracy: 0.5000\n",
      "Epoch 8/25\n",
      "4/4 [==============================] - 3s 703ms/step - loss: 0.3341 - accuracy: 0.9688 - val_loss: 0.8070 - val_accuracy: 0.6250\n",
      "Epoch 9/25\n",
      "4/4 [==============================] - 3s 709ms/step - loss: 0.2769 - accuracy: 0.9688 - val_loss: 0.7497 - val_accuracy: 0.7500\n",
      "Epoch 10/25\n",
      "4/4 [==============================] - 3s 701ms/step - loss: 0.2645 - accuracy: 1.0000 - val_loss: 0.8354 - val_accuracy: 0.6250\n",
      "Epoch 11/25\n",
      "4/4 [==============================] - 3s 704ms/step - loss: 0.2757 - accuracy: 0.9688 - val_loss: 1.0150 - val_accuracy: 0.5000\n",
      "Epoch 12/25\n",
      "4/4 [==============================] - 3s 701ms/step - loss: 0.2677 - accuracy: 0.9688 - val_loss: 1.0514 - val_accuracy: 0.6250\n",
      "Epoch 13/25\n",
      "4/4 [==============================] - 3s 684ms/step - loss: 0.2706 - accuracy: 0.9688 - val_loss: 1.0404 - val_accuracy: 0.5000\n",
      "Epoch 14/25\n",
      "4/4 [==============================] - 3s 701ms/step - loss: 0.2794 - accuracy: 0.9688 - val_loss: 0.9294 - val_accuracy: 0.5000\n",
      "Epoch 15/25\n",
      "4/4 [==============================] - 3s 702ms/step - loss: 0.2477 - accuracy: 0.9688 - val_loss: 0.7840 - val_accuracy: 0.6250\n",
      "Epoch 16/25\n",
      "4/4 [==============================] - 3s 719ms/step - loss: 0.2655 - accuracy: 0.9688 - val_loss: 0.7355 - val_accuracy: 0.7500\n",
      "Epoch 17/25\n",
      "4/4 [==============================] - 3s 702ms/step - loss: 0.2290 - accuracy: 1.0000 - val_loss: 0.7498 - val_accuracy: 0.7500\n",
      "Epoch 18/25\n",
      "4/4 [==============================] - 3s 698ms/step - loss: 0.2274 - accuracy: 1.0000 - val_loss: 0.7769 - val_accuracy: 0.5000\n",
      "Epoch 19/25\n",
      "4/4 [==============================] - 3s 727ms/step - loss: 0.2506 - accuracy: 0.9688 - val_loss: 0.8164 - val_accuracy: 0.5000\n",
      "Epoch 20/25\n",
      "4/4 [==============================] - 3s 695ms/step - loss: 0.2464 - accuracy: 0.9688 - val_loss: 0.8018 - val_accuracy: 0.5000\n",
      "Epoch 21/25\n",
      "4/4 [==============================] - 3s 700ms/step - loss: 0.2215 - accuracy: 1.0000 - val_loss: 0.7885 - val_accuracy: 0.5000\n",
      "Epoch 22/25\n",
      "4/4 [==============================] - 3s 706ms/step - loss: 0.2459 - accuracy: 1.0000 - val_loss: 0.7792 - val_accuracy: 0.5000\n",
      "Epoch 23/25\n",
      "4/4 [==============================] - 3s 717ms/step - loss: 0.2290 - accuracy: 1.0000 - val_loss: 0.7759 - val_accuracy: 0.5000\n",
      "Epoch 24/25\n",
      "4/4 [==============================] - 3s 701ms/step - loss: 0.2314 - accuracy: 1.0000 - val_loss: 0.7693 - val_accuracy: 0.6250\n",
      "Epoch 25/25\n",
      "4/4 [==============================] - 3s 706ms/step - loss: 0.2187 - accuracy: 1.0000 - val_loss: 0.7666 - val_accuracy: 0.6250\n",
      "INFO:tensorflow:Assets written to: /tmp/tmphcngeghl/model/data/model/assets\n"
     ]
    },
    {
     "name": "stderr",
     "output_type": "stream",
     "text": [
      "INFO:tensorflow:Assets written to: /tmp/tmphcngeghl/model/data/model/assets\n",
      "WARNING:urllib3.connectionpool:Failed to parse headers (url=http://35.77.37.21:9000/mlflow/1/88cc17db099b4d128ea060b9ad9e7e20/artifacts/tensorboard_logs/train/plugins/profile/2023_07_07_09_16_01/jupyter-simonliu-40infuseai-2eio.overview_page.pb): [MissingHeaderBodySeparatorDefect()], unparsed data: 'HTTP/1.1 200 OK\\r\\nAccept-Ranges: bytes\\r\\nContent-Length: 0\\r\\nContent-Security-Policy: block-all-mixed-content\\r\\nETag: \"3674613b6705c9d5c58a47dace484fb7\"\\r\\nServer: MinIO\\r\\nStrict-Transport-Security: max-age=31536000; includeSubDomains\\r\\nVary: Origin\\r\\nVary: Accept-Encoding\\r\\nX-Amz-Id-2: dd9025bab4ad464b049177c95eb6ebf374d3b3fd1af9251148b658df7ac2e3e8\\r\\nX-Amz-Request-Id: 176F710633ED2C6D\\r\\nX-Content-Type-Options: nosniff\\r\\nX-Xss-Protection: 1; mode=block\\r\\nDate: Fri, 07 Jul 2023 01:17:36 GMT\\r\\n\\r\\n'\n",
      "Traceback (most recent call last):\n",
      "  File \"/opt/conda/lib/python3.7/site-packages/urllib3/connectionpool.py\", line 396, in _make_request\n",
      "    assert_header_parsing(httplib_response.msg)\n",
      "  File \"/opt/conda/lib/python3.7/site-packages/urllib3/util/response.py\", line 72, in assert_header_parsing\n",
      "    raise HeaderParsingError(defects=defects, unparsed_data=unparsed_data)\n",
      "urllib3.exceptions.HeaderParsingError: [MissingHeaderBodySeparatorDefect()], unparsed data: 'HTTP/1.1 200 OK\\r\\nAccept-Ranges: bytes\\r\\nContent-Length: 0\\r\\nContent-Security-Policy: block-all-mixed-content\\r\\nETag: \"3674613b6705c9d5c58a47dace484fb7\"\\r\\nServer: MinIO\\r\\nStrict-Transport-Security: max-age=31536000; includeSubDomains\\r\\nVary: Origin\\r\\nVary: Accept-Encoding\\r\\nX-Amz-Id-2: dd9025bab4ad464b049177c95eb6ebf374d3b3fd1af9251148b658df7ac2e3e8\\r\\nX-Amz-Request-Id: 176F710633ED2C6D\\r\\nX-Content-Type-Options: nosniff\\r\\nX-Xss-Protection: 1; mode=block\\r\\nDate: Fri, 07 Jul 2023 01:17:36 GMT\\r\\n\\r\\n'\n"
     ]
    }
   ],
   "source": [
    "initial_epochs = 25\n",
    "\n",
    "history = model.fit(train_dataset,\n",
    "                    validation_data=validation_dataset,\n",
    "                    epochs=initial_epochs,\n",
    "                    callbacks=callback_list)"
   ]
  },
  {
   "cell_type": "markdown",
   "id": "95da2893",
   "metadata": {},
   "source": [
    "### Step 6: Model Evaluation"
   ]
  },
  {
   "cell_type": "code",
   "execution_count": 33,
   "id": "fab0987f",
   "metadata": {},
   "outputs": [
    {
     "name": "stdout",
     "output_type": "stream",
     "text": [
      "1/1 [==============================] - 0s 358ms/step - loss: 0.7666 - accuracy: 0.6250\n"
     ]
    }
   ],
   "source": [
    "lossfinal, accuracyfinal = model.evaluate(validation_dataset)"
   ]
  },
  {
   "cell_type": "code",
   "execution_count": 34,
   "id": "ea2884fa",
   "metadata": {},
   "outputs": [
    {
     "name": "stdout",
     "output_type": "stream",
     "text": [
      "final loss: 0.77\n",
      "final accuracy: 0.62\n"
     ]
    }
   ],
   "source": [
    "print(\"final loss: {:.2f}\".format(lossfinal))\n",
    "print(\"final accuracy: {:.2f}\".format(accuracyfinal))"
   ]
  },
  {
   "cell_type": "code",
   "execution_count": null,
   "id": "5cd2c4e7",
   "metadata": {},
   "outputs": [],
   "source": []
  }
 ],
 "metadata": {
  "kernelspec": {
   "display_name": "Python 3 (ipykernel)",
   "language": "python",
   "name": "python3"
  },
  "language_info": {
   "codemirror_mode": {
    "name": "ipython",
    "version": 3
   },
   "file_extension": ".py",
   "mimetype": "text/x-python",
   "name": "python",
   "nbconvert_exporter": "python",
   "pygments_lexer": "ipython3",
   "version": "3.8.5"
  },
  "vscode": {
   "interpreter": {
    "hash": "b0fa6594d8f4cbf19f97940f81e996739fb7646882a419484c72d19e05852a7e"
   }
  }
 },
 "nbformat": 4,
 "nbformat_minor": 5
}
