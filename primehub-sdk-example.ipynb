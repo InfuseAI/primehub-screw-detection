{
 "cells": [
  {
   "cell_type": "markdown",
   "id": "649baf2a",
   "metadata": {},
   "source": [
    "### Document of PrimeHub python SDK"
   ]
  },
  {
   "cell_type": "markdown",
   "id": "b0d7430a",
   "metadata": {},
   "source": [
    "Visit here https://github.com/InfuseAI/primehub-python-sdk and you can know how to use the PrimeHub SDK to do the setting."
   ]
  },
  {
   "cell_type": "markdown",
   "id": "540414e6",
   "metadata": {},
   "source": [
    "### Prerequisite"
   ]
  },
  {
   "cell_type": "markdown",
   "id": "61cfa8ac",
   "metadata": {},
   "source": [
    "#### 1. Parameter Setting"
   ]
  },
  {
   "cell_type": "code",
   "execution_count": 1,
   "id": "bddbfe90",
   "metadata": {},
   "outputs": [],
   "source": [
    "# Airgapped mode\n",
    "AIRGAPPED = True"
   ]
  },
  {
   "cell_type": "code",
   "execution_count": 2,
   "id": "fa81f690",
   "metadata": {},
   "outputs": [],
   "source": [
    "# PrimeHub Cluster\n",
    "PRIMEHUB_CLUSTER = '<primehub_cluster_url>'"
   ]
  },
  {
   "cell_type": "code",
   "execution_count": 3,
   "id": "49dddb2b",
   "metadata": {},
   "outputs": [],
   "source": [
    "# Current group\n",
    "current_group = \"End-to-end-tutorial\""
   ]
  },
  {
   "cell_type": "code",
   "execution_count": 4,
   "id": "03fa5130",
   "metadata": {},
   "outputs": [],
   "source": [
    "# End to end tutorial folder name (PS: Please put it into the group volume.)\n",
    "e2e_folder_name = \"primehub-screw-detection\""
   ]
  },
  {
   "cell_type": "code",
   "execution_count": 5,
   "id": "f0c4c110",
   "metadata": {},
   "outputs": [],
   "source": [
    "# Parameter for learning rate.\n",
    "base_learning_rate = 0.1"
   ]
  },
  {
   "cell_type": "markdown",
   "id": "7cc099ad",
   "metadata": {},
   "source": [
    "#### 2. Install package: primehub-python-sdk"
   ]
  },
  {
   "cell_type": "code",
   "execution_count": 6,
   "id": "c86c67e3",
   "metadata": {},
   "outputs": [],
   "source": [
    "if not AIRGAPPED:\n",
    "    !pip install primehub-python-sdk==0.3.8"
   ]
  },
  {
   "cell_type": "markdown",
   "id": "fa69eef8",
   "metadata": {},
   "source": [
    "### I. Getting Started with PrimeHub Python SDK"
   ]
  },
  {
   "cell_type": "markdown",
   "id": "ecc0a71f",
   "metadata": {},
   "source": [
    "#### 1. Generate config file."
   ]
  },
  {
   "cell_type": "code",
   "execution_count": 7,
   "id": "3ef4c615",
   "metadata": {},
   "outputs": [],
   "source": [
    "import os\n",
    "from primehub import PrimeHub, PrimeHubConfig\n",
    "\n",
    "ph = PrimeHub(PrimeHubConfig())\n",
    "if not os.path.isfile(os.path.join(os.getenv(\"HOME\"), \".primehub/config.json\")):\n",
    "    ph.config.generate(PRIMEHUB_CLUSTER)"
   ]
  },
  {
   "cell_type": "markdown",
   "id": "8400fad8",
   "metadata": {},
   "source": [
    "#### 2. Setting PrimeHub config"
   ]
  },
  {
   "cell_type": "code",
   "execution_count": 8,
   "id": "0c6458ea",
   "metadata": {},
   "outputs": [
    {
     "name": "stdout",
     "output_type": "stream",
     "text": [
      "PrimeHub Python SDK setup successfully\n",
      "Current Group: {'id': 'dc6a0f50-2679-4d6b-b819-8da1b2e1b0f9', 'name': 'End-to-end-tutorial', 'displayName': 'End to end tutorial'}\n"
     ]
    }
   ],
   "source": [
    "ph = PrimeHub(PrimeHubConfig())\n",
    "if ph.is_ready():\n",
    "    print(\"PrimeHub Python SDK setup successfully\")\n",
    "    ph.config.set_group(current_group)\n",
    "    print(\"Current Group:\", ph.primehub_config.current_group)\n",
    "else:\n",
    "    print(\"PrimeHub Python SDK couldn't get the group information, please check the configuration.\")"
   ]
  },
  {
   "cell_type": "code",
   "execution_count": 9,
   "id": "96a9538c",
   "metadata": {},
   "outputs": [
    {
     "data": {
      "text/plain": [
       "{'id': '35985b6b-21c9-4362-902d-4d6bb89074bf',\n",
       " 'username': 'simonliu@infuseai.io',\n",
       " 'firstName': 'Simon',\n",
       " 'lastName': 'Liu',\n",
       " 'email': 'simonliu@infuseai.io',\n",
       " 'isAdmin': True}"
      ]
     },
     "execution_count": 9,
     "metadata": {},
     "output_type": "execute_result"
    }
   ],
   "source": [
    "ph.me.me()"
   ]
  },
  {
   "cell_type": "code",
   "execution_count": 10,
   "id": "8ed63232",
   "metadata": {},
   "outputs": [
    {
     "name": "stdout",
     "output_type": "stream",
     "text": [
      "admin\n",
      "apps\n",
      "apptemplates\n",
      "config\n",
      "datasets\n",
      "deployments\n",
      "files\n",
      "groups\n",
      "images\n",
      "instancetypes\n",
      "jobs\n",
      "me\n",
      "models\n",
      "notebooks\n",
      "recurring-jobs\n",
      "secrets\n",
      "version\n",
      "volumes\n"
     ]
    }
   ],
   "source": [
    "for cmd in ph.get_all_commands():\n",
    "    print(cmd)"
   ]
  },
  {
   "cell_type": "markdown",
   "id": "af0d63f8",
   "metadata": {},
   "source": [
    "### II. Training Model."
   ]
  },
  {
   "cell_type": "markdown",
   "id": "8fc3a934",
   "metadata": {},
   "source": [
    "#### 1. List the docker images environments."
   ]
  },
  {
   "cell_type": "code",
   "execution_count": 11,
   "id": "730cc9a4",
   "metadata": {},
   "outputs": [
    {
     "data": {
      "text/html": [
       "<div>\n",
       "<style scoped>\n",
       "    .dataframe tbody tr th:only-of-type {\n",
       "        vertical-align: middle;\n",
       "    }\n",
       "\n",
       "    .dataframe tbody tr th {\n",
       "        vertical-align: top;\n",
       "    }\n",
       "\n",
       "    .dataframe thead th {\n",
       "        text-align: right;\n",
       "    }\n",
       "</style>\n",
       "<table border=\"1\" class=\"dataframe\">\n",
       "  <thead>\n",
       "    <tr style=\"text-align: right;\">\n",
       "      <th></th>\n",
       "      <th>id</th>\n",
       "      <th>name</th>\n",
       "      <th>displayName</th>\n",
       "      <th>description</th>\n",
       "      <th>useImagePullSecret</th>\n",
       "      <th>spec</th>\n",
       "    </tr>\n",
       "  </thead>\n",
       "  <tbody>\n",
       "    <tr>\n",
       "      <th>0</th>\n",
       "      <td>tf-2.5</td>\n",
       "      <td>tf-2.5</td>\n",
       "      <td>TensorFlow 2.5 with PrimeHub extension</td>\n",
       "      <td>TensorFlow 2.5 with PrimeHub extension</td>\n",
       "      <td>None</td>\n",
       "      <td>{'description': 'TensorFlow 2.5 with PrimeHub ...</td>\n",
       "    </tr>\n",
       "    <tr>\n",
       "      <th>1</th>\n",
       "      <td>tf-1.15</td>\n",
       "      <td>tf-1.15</td>\n",
       "      <td>TensorFlow 1.15 with PrimeHub extension</td>\n",
       "      <td>TensorFlow 1.15 with PrimeHub extension</td>\n",
       "      <td>None</td>\n",
       "      <td>{'description': 'TensorFlow 1.15 with PrimeHub...</td>\n",
       "    </tr>\n",
       "    <tr>\n",
       "      <th>2</th>\n",
       "      <td>pytorch-1.10</td>\n",
       "      <td>pytorch-1.10</td>\n",
       "      <td>PyTorch 1.10 with PrimeHub extension</td>\n",
       "      <td>PyTorch 1.10 with PrimeHub extension</td>\n",
       "      <td>None</td>\n",
       "      <td>{'description': 'PyTorch 1.10 with PrimeHub ex...</td>\n",
       "    </tr>\n",
       "    <tr>\n",
       "      <th>3</th>\n",
       "      <td>tf-2.8</td>\n",
       "      <td>tf-2.8</td>\n",
       "      <td>TensorFlow 2.8 with PrimeHub extension</td>\n",
       "      <td>TensorFlow 2.8 with PrimeHub extension</td>\n",
       "      <td>None</td>\n",
       "      <td>{'description': 'TensorFlow 2.8 with PrimeHub ...</td>\n",
       "    </tr>\n",
       "    <tr>\n",
       "      <th>4</th>\n",
       "      <td>base-notebook</td>\n",
       "      <td>base-notebook</td>\n",
       "      <td>base-notebook</td>\n",
       "      <td>base-notebook</td>\n",
       "      <td>None</td>\n",
       "      <td>{'description': 'base-notebook', 'displayName'...</td>\n",
       "    </tr>\n",
       "    <tr>\n",
       "      <th>5</th>\n",
       "      <td>global</td>\n",
       "      <td>global</td>\n",
       "      <td>global</td>\n",
       "      <td></td>\n",
       "      <td></td>\n",
       "      <td>{'description': '', 'displayName': 'global', '...</td>\n",
       "    </tr>\n",
       "  </tbody>\n",
       "</table>\n",
       "</div>"
      ],
      "text/plain": [
       "              id           name                              displayName  \\\n",
       "0         tf-2.5         tf-2.5   TensorFlow 2.5 with PrimeHub extension   \n",
       "1        tf-1.15        tf-1.15  TensorFlow 1.15 with PrimeHub extension   \n",
       "2   pytorch-1.10   pytorch-1.10     PyTorch 1.10 with PrimeHub extension   \n",
       "3         tf-2.8         tf-2.8   TensorFlow 2.8 with PrimeHub extension   \n",
       "4  base-notebook  base-notebook                            base-notebook   \n",
       "5         global         global                                   global   \n",
       "\n",
       "                               description useImagePullSecret  \\\n",
       "0   TensorFlow 2.5 with PrimeHub extension               None   \n",
       "1  TensorFlow 1.15 with PrimeHub extension               None   \n",
       "2     PyTorch 1.10 with PrimeHub extension               None   \n",
       "3   TensorFlow 2.8 with PrimeHub extension               None   \n",
       "4                            base-notebook               None   \n",
       "5                                                               \n",
       "\n",
       "                                                spec  \n",
       "0  {'description': 'TensorFlow 2.5 with PrimeHub ...  \n",
       "1  {'description': 'TensorFlow 1.15 with PrimeHub...  \n",
       "2  {'description': 'PyTorch 1.10 with PrimeHub ex...  \n",
       "3  {'description': 'TensorFlow 2.8 with PrimeHub ...  \n",
       "4  {'description': 'base-notebook', 'displayName'...  \n",
       "5  {'description': '', 'displayName': 'global', '...  "
      ]
     },
     "execution_count": 11,
     "metadata": {},
     "output_type": "execute_result"
    }
   ],
   "source": [
    "import pandas as pd\n",
    "df_list = pd.DataFrame.from_records(list(ph.images.list()))\n",
    "df_list"
   ]
  },
  {
   "cell_type": "markdown",
   "id": "fbf63ffa",
   "metadata": {},
   "source": [
    "#### 2. Environment variable setting"
   ]
  },
  {
   "cell_type": "code",
   "execution_count": 12,
   "id": "e1bba8c1",
   "metadata": {},
   "outputs": [],
   "source": [
    "current_group = current_group.lower()"
   ]
  },
  {
   "cell_type": "code",
   "execution_count": 13,
   "id": "005f6ce4",
   "metadata": {},
   "outputs": [
    {
     "data": {
      "text/plain": [
       "'20230104_085938'"
      ]
     },
     "execution_count": 13,
     "metadata": {},
     "output_type": "execute_result"
    }
   ],
   "source": [
    "from datetime import datetime\n",
    "now_time = datetime.today().strftime('%Y%m%d_%H%M%S')\n",
    "now_time"
   ]
  },
  {
   "cell_type": "markdown",
   "id": "95d4db1a",
   "metadata": {},
   "source": [
    "#### 3. Submit Notebook as a job."
   ]
  },
  {
   "cell_type": "code",
   "execution_count": 14,
   "id": "d6638201",
   "metadata": {},
   "outputs": [
    {
     "name": "stdout",
     "output_type": "stream",
     "text": [
      "{'id': 'job-202301040059-vua006', 'displayName': 'primehub screw detection', 'cancel': False, 'command': 'cd /home/jovyan/end-to-end-tutorial/primehub-screw-detection/ &&                 pip install -r jupyter-image/requirements.txt &&                papermill /home/jovyan/end-to-end-tutorial/primehub-screw-detection/tutorial_screw_training_airgapped.ipynb                 /home/jovyan/end-to-end-tutorial/primehub-screw-detection/tutorial_screw_training_airgapped-20230104_085938.ipynb                 -p base_learning_rate 0.1', 'groupId': 'dc6a0f50-2679-4d6b-b819-8da1b2e1b0f9', 'groupName': 'End-to-end-tutorial', 'image': 'tf-2.5', 'instanceType': {'id': 'cpu-2', 'name': 'cpu-2', 'displayName': 'CPU 2', 'cpuLimit': 2, 'memoryLimit': 10, 'gpuLimit': 0}, 'userId': '35985b6b-21c9-4362-902d-4d6bb89074bf', 'userName': 'simonliu@infuseai.io', 'phase': 'Pending', 'reason': None, 'message': None, 'createTime': '2023-01-04T00:59:38Z', 'startTime': None, 'finishTime': None, 'recurrence': None}\n"
     ]
    }
   ],
   "source": [
    "config = {\n",
    "    \"instanceType\": \"cpu-2\",\n",
    "    \"image\": \"tf-2.5\",\n",
    "    \"displayName\": \"primehub screw detection\",\n",
    "    \"command\": \"cd /home/jovyan/{}/{}/ && \\\n",
    "                pip install -r jupyter-image/requirements.txt &&\\\n",
    "                papermill /home/jovyan/{}/{}/tutorial_screw_training_airgapped.ipynb \\\n",
    "                /home/jovyan/{}/{}/tutorial_screw_training_airgapped-{}.ipynb \\\n",
    "                -p base_learning_rate {}\".format(\n",
    "                    current_group, e2e_folder_name, current_group, e2e_folder_name, current_group, \\\n",
    "                    e2e_folder_name, now_time, base_learning_rate)\n",
    "}\n",
    "\n",
    "training_job = ph.jobs.submit(config)\n",
    "print(training_job)"
   ]
  },
  {
   "cell_type": "markdown",
   "id": "cac32ccb",
   "metadata": {},
   "source": [
    "### III. Model Registry"
   ]
  },
  {
   "cell_type": "markdown",
   "id": "1ae7c050",
   "metadata": {},
   "source": [
    "#### 1. Variable setting"
   ]
  },
  {
   "cell_type": "code",
   "execution_count": 15,
   "id": "e4d74d3f",
   "metadata": {},
   "outputs": [],
   "source": [
    "# Mlflow run id\n",
    "run_id = \"<mlflow-run-id>\""
   ]
  },
  {
   "cell_type": "code",
   "execution_count": 16,
   "id": "3a74ced8",
   "metadata": {},
   "outputs": [],
   "source": [
    "# The name of model registry\n",
    "model_registry_name = \"screw-model\""
   ]
  },
  {
   "cell_type": "markdown",
   "id": "5ea59dff",
   "metadata": {},
   "source": [
    "#### 2. Register the model"
   ]
  },
  {
   "cell_type": "code",
   "execution_count": 17,
   "id": "9361c566",
   "metadata": {},
   "outputs": [
    {
     "name": "stderr",
     "output_type": "stream",
     "text": [
      "Registered model 'screw-model' already exists. Creating a new version of this model...\n",
      "2023/01/04 08:59:39 INFO mlflow.tracking._model_registry.client: Waiting up to 300 seconds for model version to finish creation.                     Model name: screw-model, version 9\n",
      "Created version '9' of model 'screw-model'.\n"
     ]
    }
   ],
   "source": [
    "import mlflow\n",
    "\n",
    "model_uri = \"runs:/{}/model\".format(run_id)\n",
    "mv = mlflow.register_model(model_uri, model_registry_name)"
   ]
  },
  {
   "cell_type": "markdown",
   "id": "8d94a6ba",
   "metadata": {},
   "source": [
    "#### 3. Get the model uri link"
   ]
  },
  {
   "cell_type": "code",
   "execution_count": 18,
   "id": "fdf15914",
   "metadata": {},
   "outputs": [
    {
     "data": {
      "text/plain": [
       "'models:/screw-model/9'"
      ]
     },
     "execution_count": 18,
     "metadata": {},
     "output_type": "execute_result"
    }
   ],
   "source": [
    "model_uri_link = \"models:/{}/{}\".format(mv.name, mv.version)\n",
    "model_uri_link"
   ]
  },
  {
   "cell_type": "markdown",
   "id": "0ae7b01d",
   "metadata": {},
   "source": [
    "### IV. Model Management"
   ]
  },
  {
   "cell_type": "markdown",
   "id": "7bad8990",
   "metadata": {},
   "source": [
    "#### 1. List all register models"
   ]
  },
  {
   "cell_type": "code",
   "execution_count": 19,
   "id": "1c2665ec",
   "metadata": {},
   "outputs": [
    {
     "name": "stdout",
     "output_type": "stream",
     "text": [
      "{'name': 'screw-model', 'creationTimestamp': datetime.datetime(2022, 9, 19, 15, 32, 2), 'lastUpdatedTimestamp': datetime.datetime(2023, 1, 4, 8, 59, 39), 'description': None, 'latestVersion': '9'}\n"
     ]
    }
   ],
   "source": [
    "models = ph.models.list()\n",
    "for model in models:\n",
    "    if model[\"name\"] == model_registry_name:\n",
    "        print(model)"
   ]
  },
  {
   "cell_type": "markdown",
   "id": "0e6c4443",
   "metadata": {},
   "source": [
    "#### 2. Get detail information by model name\n"
   ]
  },
  {
   "cell_type": "code",
   "execution_count": null,
   "id": "e51e0ec0",
   "metadata": {},
   "outputs": [],
   "source": [
    "ph.models.get(model_registry_name)"
   ]
  },
  {
   "cell_type": "markdown",
   "id": "9aee677b",
   "metadata": {},
   "source": [
    "### V. Model Deployment"
   ]
  },
  {
   "cell_type": "markdown",
   "id": "0adb0728",
   "metadata": {},
   "source": [
    "#### 1. Choose the model version for deploying"
   ]
  },
  {
   "cell_type": "code",
   "execution_count": 21,
   "id": "f3a011b1",
   "metadata": {},
   "outputs": [],
   "source": [
    "model_version = 3"
   ]
  },
  {
   "cell_type": "markdown",
   "id": "e45f31ab",
   "metadata": {},
   "source": [
    "#### 2. List all deployments"
   ]
  },
  {
   "cell_type": "code",
   "execution_count": null,
   "id": "aa98f019",
   "metadata": {},
   "outputs": [],
   "source": [
    "ph.deployments.list()"
   ]
  },
  {
   "cell_type": "markdown",
   "id": "9511fc3e",
   "metadata": {},
   "source": [
    "#### 3. Variable Setting"
   ]
  },
  {
   "cell_type": "code",
   "execution_count": 23,
   "id": "4817f325",
   "metadata": {},
   "outputs": [],
   "source": [
    "deploy_name = \"<name>\""
   ]
  },
  {
   "cell_type": "markdown",
   "id": "31904d85",
   "metadata": {},
   "source": [
    "#### 4. Create a deployment"
   ]
  },
  {
   "cell_type": "code",
   "execution_count": 24,
   "id": "f837fe0f",
   "metadata": {},
   "outputs": [
    {
     "name": "stdout",
     "output_type": "stream",
     "text": [
      "{'id': 'deployment-screw-detection-simon', 'name': 'deployment-screw-detection-simon', 'modelImage': 'infuseaidev/tensorflow2-prepackaged:screw-classification', 'imagePullSecret': None, 'description': None, 'replicas': 1, 'stop': False, 'endpointAccessType': 'public', 'endpointClients': [], 'status': 'Deploying', 'endpoint': None, 'availableReplicas': None, 'message': None, 'pods': []}\n"
     ]
    }
   ],
   "source": [
    "config = {\n",
    "    \"id\": \"deployment-screw-detection-{}\".format(deploy_name),\n",
    "    \"name\": \"deployment-screw-detection-{}\".format(deploy_name),\n",
    "    \"modelImage\": \"infuseaidev/tensorflow2-prepackaged:screw-classification\",\n",
    "    \"modelURI\": model_uri_link,\n",
    "    \"instanceType\": \"cpu-1\",\n",
    "    \"replicas\": 1\n",
    "}\n",
    "\n",
    "deployment = ph.deployments.create(config)\n",
    "print(deployment)"
   ]
  },
  {
   "cell_type": "markdown",
   "id": "eb881991",
   "metadata": {},
   "source": [
    "#### 5. See the deployment information(Not ready)"
   ]
  },
  {
   "cell_type": "code",
   "execution_count": 25,
   "id": "072511d8",
   "metadata": {},
   "outputs": [
    {
     "data": {
      "text/plain": [
       "{'id': 'deployment-screw-detection-simon',\n",
       " 'status': 'Deploying',\n",
       " 'message': None,\n",
       " 'name': 'deployment-screw-detection-simon',\n",
       " 'description': None,\n",
       " 'updateMessage': None,\n",
       " 'metadata': None,\n",
       " 'stop': False,\n",
       " 'userName': 'simonliu@infuseai.io',\n",
       " 'groupName': 'End-to-end-tutorial',\n",
       " 'endpoint': None,\n",
       " 'modelImage': 'infuseaidev/tensorflow2-prepackaged:screw-classification',\n",
       " 'modelURI': 'models:/screw-model/9',\n",
       " 'replicas': 1,\n",
       " 'availableReplicas': None,\n",
       " 'imagePullSecret': None,\n",
       " 'instanceType': {'name': 'cpu-1'},\n",
       " 'creationTime': '2023-01-04T00:59:40Z',\n",
       " 'lastUpdatedTime': '2023-01-04T00:59:40.317Z',\n",
       " 'pods': [],\n",
       " 'env': None,\n",
       " 'endpointAccessType': 'public',\n",
       " 'endpointClients': []}"
      ]
     },
     "execution_count": 25,
     "metadata": {},
     "output_type": "execute_result"
    }
   ],
   "source": [
    "deployment_info = ph.deployments.get(deployment['id'])\n",
    "deployment_info"
   ]
  },
  {
   "cell_type": "markdown",
   "id": "080a55d0",
   "metadata": {},
   "source": [
    "#### 6. Wait for ready"
   ]
  },
  {
   "cell_type": "code",
   "execution_count": null,
   "id": "dea86608",
   "metadata": {},
   "outputs": [],
   "source": [
    "# Wait for finishing deploy\n",
    "ph.deployments.wait(deployment_info['id'])"
   ]
  },
  {
   "cell_type": "markdown",
   "id": "2cbeecae",
   "metadata": {},
   "source": [
    "#### 7. See the deployment information(Ready)"
   ]
  },
  {
   "cell_type": "code",
   "execution_count": null,
   "id": "077a9570",
   "metadata": {},
   "outputs": [],
   "source": [
    "deployment_info = ph.deployments.get(deployment['id'])\n",
    "deployment_info"
   ]
  },
  {
   "cell_type": "markdown",
   "id": "4a7cb2ed",
   "metadata": {},
   "source": [
    "### VI. Create Streamlit App"
   ]
  },
  {
   "cell_type": "markdown",
   "id": "fdd50aac",
   "metadata": {},
   "source": [
    "#### 1. Get the streamlit app template"
   ]
  },
  {
   "cell_type": "code",
   "execution_count": 28,
   "id": "1ec2e2e7",
   "metadata": {},
   "outputs": [
    {
     "data": {
      "text/plain": [
       "{'id': 'streamlit',\n",
       " 'name': 'Streamlit',\n",
       " 'version': 'v1.12.2',\n",
       " 'description': 'Streamlit turns data scripts into shareable web apps in minutes. All in Python. All for free. No frontâ€‘end experience required.',\n",
       " 'docLink': 'https://docs.primehub.io/docs/primehub-app-builtin-streamlit',\n",
       " 'template': {'spec': {'httpPort': 8501,\n",
       "   'podTemplate': {'spec': {'containers': [{'args': ['cd $(dirname $FILE_PATH); [ -f \"packages.txt\" ] && apt-get update && xargs -P1 apt-get install -yq < packages.txt; [ -f \"requirements.txt\" ] && pip install --upgrade pip && xargs -n 1 pip install < requirements.txt; streamlit run $(FILE_PATH) --server.address 0.0.0.0 --server.baseUrlPath $(PRIMEHUB_APP_BASE_URL) --server.enableWebsocketCompression \"false\" --server.enableCORS \"false\"'],\n",
       "       'command': ['bash', '-c'],\n",
       "       'image': 'infuseai/primehub-apps:streamlit-v1.12.2',\n",
       "       'name': 'streamlit',\n",
       "       'ports': [{'containerPort': 8501,\n",
       "         'name': 'http',\n",
       "         'protocol': 'TCP'}]}]}},\n",
       "   'svcTemplate': {'spec': {'ports': [{'name': 'http',\n",
       "       'port': 8501,\n",
       "       'protocol': 'TCP',\n",
       "       'targetPort': 8501}]}}}},\n",
       " 'defaultEnvs': [{'name': 'FILE_PATH',\n",
       "   'defaultValue': '/project/path/to/your/streamlit.py',\n",
       "   'optional': False,\n",
       "   'description': 'Path to the python scripts'}]}"
      ]
     },
     "execution_count": 28,
     "metadata": {},
     "output_type": "execute_result"
    }
   ],
   "source": [
    "streamlit_template = ph.apptemplates.get('streamlit')\n",
    "del streamlit_template['icon']\n",
    "streamlit_template"
   ]
  },
  {
   "cell_type": "markdown",
   "id": "80efaaa7",
   "metadata": {},
   "source": [
    "#### 2. Start the streamlit app"
   ]
  },
  {
   "cell_type": "code",
   "execution_count": 32,
   "id": "0a7b39a5",
   "metadata": {},
   "outputs": [
    {
     "name": "stdout",
     "output_type": "stream",
     "text": [
      "{'id': 'streamlit-screw-detection-d8d15'}\n"
     ]
    }
   ],
   "source": [
    "import uuid\n",
    "random_id = uuid.uuid4().hex[:5]\n",
    "\n",
    "config = {\n",
    "  \"templateId\": \"streamlit\",\n",
    "  \"id\": f\"streamlit-screw-detection-{random_id}\",\n",
    "  \"displayName\": f\"streamlit-screw-detection-{random_id}\",\n",
    "  \"env\": [\n",
    "    {\n",
    "      \"name\": \"FILE_PATH\",\n",
    "      \"value\": \"/project/{}/{}/streamlit/tutorial_screw_app.py\".format(current_group.lower(), e2e_folder_name)\n",
    "    },\n",
    "    {\n",
    "      \"name\": \"ENDPOINT\",\n",
    "      \"value\": deployment_info['endpoint']\n",
    "    }\n",
    "  ],\n",
    "  \"instanceType\": \"cpu-1\",\n",
    "  \"scope\": \"primehub\"\n",
    "}\n",
    "result = ph.apps.create(config)\n",
    "app = result['id']\n",
    "print(result)"
   ]
  },
  {
   "cell_type": "markdown",
   "id": "b77d209d",
   "metadata": {},
   "source": [
    "#### 3. Start the streamlit app"
   ]
  },
  {
   "cell_type": "code",
   "execution_count": 34,
   "id": "33cbea21",
   "metadata": {},
   "outputs": [
    {
     "data": {
      "text/plain": [
       "{'id': 'streamlit-screw-detection-d8d15',\n",
       " 'displayName': 'streamlit-screw-detection-d8d15',\n",
       " 'appVersion': 'v1.12.2',\n",
       " 'appName': 'streamlit',\n",
       " 'appDefaultEnv': [{'name': 'FILE_PATH',\n",
       "   'defaultValue': '/project/path/to/your/streamlit.py',\n",
       "   'optional': False,\n",
       "   'description': 'Path to the python scripts'}],\n",
       " 'appTemplate': {'name': 'Streamlit',\n",
       "  'docLink': 'https://docs.primehub.io/docs/primehub-app-builtin-streamlit',\n",
       "  'description': 'Streamlit turns data scripts into shareable web apps in minutes. All in Python. All for free. No frontâ€‘end experience required.'},\n",
       " 'groupName': 'End-to-end-tutorial',\n",
       " 'instanceType': 'cpu-1',\n",
       " 'instanceTypeSpec': {'name': 'cpu-1',\n",
       "  'displayName': 'CPU 1',\n",
       "  'cpuLimit': 1,\n",
       "  'memoryLimit': 2,\n",
       "  'gpuLimit': 0},\n",
       " 'scope': 'primehub',\n",
       " 'appUrl': 'https://c.demo.primehub.io/console/apps/streamlit-screw-detection-d8d15',\n",
       " 'internalAppUrl': 'http://app-streamlit-screw-detection-d8d15:8501/console/apps/streamlit-screw-detection-d8d15',\n",
       " 'svcEndpoints': ['app-streamlit-screw-detection-d8d15:8501'],\n",
       " 'env': [{'name': 'FILE_PATH',\n",
       "   'value': '/project/end-to-end-tutorial/primehub-screw-detection/streamlit/tutorial_screw_app.py'},\n",
       "  {'name': 'ENDPOINT',\n",
       "   'value': 'https://c.demo.primehub.io/deployment/deployment-screw-detection-simon/api/v1.0/predictions'}],\n",
       " 'stop': False,\n",
       " 'status': 'Ready',\n",
       " 'message': 'Deployment is ready',\n",
       " 'pods': [{'logEndpoint': 'https://c.demo.primehub.io/api/logs/phapplications/app-streamlit-screw-detection-d8d15-6d6ddd5595-d68mc'}]}"
      ]
     },
     "execution_count": 34,
     "metadata": {},
     "output_type": "execute_result"
    }
   ],
   "source": [
    "streamlit_app_service = ph.apps.get(app)\n",
    "del streamlit_app_service['appIcon']\n",
    "streamlit_app_service"
   ]
  },
  {
   "cell_type": "markdown",
   "id": "aea6462d",
   "metadata": {},
   "source": [
    "### VII. Stop all service"
   ]
  },
  {
   "cell_type": "markdown",
   "id": "0255333d",
   "metadata": {},
   "source": [
    "#### 1. Stop Deployment service"
   ]
  },
  {
   "cell_type": "code",
   "execution_count": null,
   "id": "85942d4f",
   "metadata": {},
   "outputs": [],
   "source": [
    "ph.deployments.stop(deployment_info['id'])"
   ]
  },
  {
   "cell_type": "markdown",
   "id": "29cefe58",
   "metadata": {},
   "source": [
    "#### 2. Stop Streamlit Service"
   ]
  },
  {
   "cell_type": "code",
   "execution_count": 36,
   "id": "baaeeed8",
   "metadata": {},
   "outputs": [],
   "source": [
    "stop_streamlit_app = ph.apps.stop(app)"
   ]
  },
  {
   "cell_type": "code",
   "execution_count": 41,
   "id": "1440d0fd",
   "metadata": {},
   "outputs": [
    {
     "data": {
      "text/plain": [
       "'Stopped'"
      ]
     },
     "execution_count": 41,
     "metadata": {},
     "output_type": "execute_result"
    }
   ],
   "source": [
    "streamlit_app_service = ph.apps.get(app)\n",
    "del streamlit_app_service['appIcon']\n",
    "streamlit_app_service['status']"
   ]
  }
 ],
 "metadata": {
  "kernelspec": {
   "display_name": "Python 3",
   "language": "python",
   "name": "python3"
  },
  "language_info": {
   "codemirror_mode": {
    "name": "ipython",
    "version": 3
   },
   "file_extension": ".py",
   "mimetype": "text/x-python",
   "name": "python",
   "nbconvert_exporter": "python",
   "pygments_lexer": "ipython3",
   "version": "3.7.10"
  }
 },
 "nbformat": 4,
 "nbformat_minor": 5
}
